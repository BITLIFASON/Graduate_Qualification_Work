{
  "cells": [
    {
      "cell_type": "markdown",
      "metadata": {
        "id": "mTclMpxIRTig"
      },
      "source": [
        "# IMPORT, CONFIG"
      ]
    },
    {
      "cell_type": "code",
      "source": [
        "from google.colab import drive\n",
        "drive.mount('/content/drive')"
      ],
      "metadata": {
        "colab": {
          "base_uri": "https://localhost:8080/"
        },
        "id": "3fzZGb7aSHdK",
        "outputId": "2b1679a9-124f-46c9-e1e8-cb06e65278a7"
      },
      "execution_count": 1,
      "outputs": [
        {
          "output_type": "stream",
          "name": "stdout",
          "text": [
            "Mounted at /content/drive\n"
          ]
        }
      ]
    },
    {
      "cell_type": "code",
      "source": [
        "import os\n",
        "os.chdir('/content/drive/MyDrive/data_nir')"
      ],
      "metadata": {
        "id": "8LShsvBmSKq4"
      },
      "execution_count": 2,
      "outputs": []
    },
    {
      "cell_type": "code",
      "source": [
        "!pip install transformers\n",
        "!pip install torchinfo"
      ],
      "metadata": {
        "colab": {
          "base_uri": "https://localhost:8080/"
        },
        "id": "hgjjzJDXRbEa",
        "outputId": "669fa805-f9b5-4c31-d156-acf9b6cd47fc"
      },
      "execution_count": 3,
      "outputs": [
        {
          "output_type": "stream",
          "name": "stdout",
          "text": [
            "Looking in indexes: https://pypi.org/simple, https://us-python.pkg.dev/colab-wheels/public/simple/\n",
            "Collecting transformers\n",
            "  Downloading transformers-4.24.0-py3-none-any.whl (5.5 MB)\n",
            "\u001b[K     |████████████████████████████████| 5.5 MB 29.6 MB/s \n",
            "\u001b[?25hCollecting tokenizers!=0.11.3,<0.14,>=0.11.1\n",
            "  Downloading tokenizers-0.13.2-cp37-cp37m-manylinux_2_17_x86_64.manylinux2014_x86_64.whl (7.6 MB)\n",
            "\u001b[K     |████████████████████████████████| 7.6 MB 64.5 MB/s \n",
            "\u001b[?25hRequirement already satisfied: pyyaml>=5.1 in /usr/local/lib/python3.7/dist-packages (from transformers) (6.0)\n",
            "Requirement already satisfied: filelock in /usr/local/lib/python3.7/dist-packages (from transformers) (3.8.0)\n",
            "Requirement already satisfied: regex!=2019.12.17 in /usr/local/lib/python3.7/dist-packages (from transformers) (2022.6.2)\n",
            "Requirement already satisfied: numpy>=1.17 in /usr/local/lib/python3.7/dist-packages (from transformers) (1.21.6)\n",
            "Requirement already satisfied: requests in /usr/local/lib/python3.7/dist-packages (from transformers) (2.23.0)\n",
            "Requirement already satisfied: tqdm>=4.27 in /usr/local/lib/python3.7/dist-packages (from transformers) (4.64.1)\n",
            "Requirement already satisfied: importlib-metadata in /usr/local/lib/python3.7/dist-packages (from transformers) (4.13.0)\n",
            "Requirement already satisfied: packaging>=20.0 in /usr/local/lib/python3.7/dist-packages (from transformers) (21.3)\n",
            "Collecting huggingface-hub<1.0,>=0.10.0\n",
            "  Downloading huggingface_hub-0.10.1-py3-none-any.whl (163 kB)\n",
            "\u001b[K     |████████████████████████████████| 163 kB 66.7 MB/s \n",
            "\u001b[?25hRequirement already satisfied: typing-extensions>=3.7.4.3 in /usr/local/lib/python3.7/dist-packages (from huggingface-hub<1.0,>=0.10.0->transformers) (4.1.1)\n",
            "Requirement already satisfied: pyparsing!=3.0.5,>=2.0.2 in /usr/local/lib/python3.7/dist-packages (from packaging>=20.0->transformers) (3.0.9)\n",
            "Requirement already satisfied: zipp>=0.5 in /usr/local/lib/python3.7/dist-packages (from importlib-metadata->transformers) (3.10.0)\n",
            "Requirement already satisfied: urllib3!=1.25.0,!=1.25.1,<1.26,>=1.21.1 in /usr/local/lib/python3.7/dist-packages (from requests->transformers) (1.24.3)\n",
            "Requirement already satisfied: chardet<4,>=3.0.2 in /usr/local/lib/python3.7/dist-packages (from requests->transformers) (3.0.4)\n",
            "Requirement already satisfied: idna<3,>=2.5 in /usr/local/lib/python3.7/dist-packages (from requests->transformers) (2.10)\n",
            "Requirement already satisfied: certifi>=2017.4.17 in /usr/local/lib/python3.7/dist-packages (from requests->transformers) (2022.9.24)\n",
            "Installing collected packages: tokenizers, huggingface-hub, transformers\n",
            "Successfully installed huggingface-hub-0.10.1 tokenizers-0.13.2 transformers-4.24.0\n",
            "Looking in indexes: https://pypi.org/simple, https://us-python.pkg.dev/colab-wheels/public/simple/\n",
            "Collecting torchinfo\n",
            "  Downloading torchinfo-1.7.1-py3-none-any.whl (22 kB)\n",
            "Installing collected packages: torchinfo\n",
            "Successfully installed torchinfo-1.7.1\n"
          ]
        }
      ]
    },
    {
      "cell_type": "code",
      "execution_count": 4,
      "metadata": {
        "id": "O1RkWN5bRTil"
      },
      "outputs": [],
      "source": [
        "from transformers import BertForSequenceClassification, AutoTokenizer, logging\n",
        "\n",
        "import os\n",
        "import random\n",
        "import time\n",
        "from tqdm import tqdm\n",
        "import pickle\n",
        "import gensim\n",
        "\n",
        "import torch\n",
        "from torch import nn, optim\n",
        "from torch.utils.data import Dataset, DataLoader\n",
        "from torch.nn.utils import clip_grad_norm_\n",
        "import torch.nn.functional as F\n",
        "from torchinfo import summary\n",
        "\n",
        "import numpy as np\n",
        "import pandas as pd\n",
        "import seaborn as sns\n",
        "from pylab import rcParams\n",
        "import matplotlib.pyplot as plt\n",
        "from matplotlib import rc\n",
        "from sklearn.model_selection import train_test_split\n",
        "from sklearn.metrics import roc_auc_score, accuracy_score, precision_score, recall_score, f1_score, classification_report\n",
        "from collections import defaultdict\n",
        "from textwrap import wrap\n",
        "\n",
        "import warnings\n",
        "warnings.filterwarnings(\"ignore\")\n",
        "logging.set_verbosity_error()"
      ]
    },
    {
      "cell_type": "code",
      "execution_count": 5,
      "metadata": {
        "id": "9xSwpuVuRTin"
      },
      "outputs": [],
      "source": [
        "%matplotlib inline\n",
        "%config InlineBackend.figure_format='retina'\n",
        "sns.set(style='whitegrid', palette='muted', font_scale=1.2)\n",
        "HAPPY_COLORS_PALETTE = [\"#01BEFE\", \"#FFDD00\", \"#FF7D00\", \"#FF006D\", \"#ADFF02\", \"#8F00FF\"]\n",
        "sns.set_palette(sns.color_palette(HAPPY_COLORS_PALETTE))\n",
        "rcParams['figure.figsize'] = 8, 6"
      ]
    },
    {
      "cell_type": "code",
      "execution_count": 6,
      "metadata": {
        "id": "GHM9WsteRTio"
      },
      "outputs": [],
      "source": [
        "RANDOM_SEED = 42\n",
        "random.seed(RANDOM_SEED)\n",
        "np.random.seed(RANDOM_SEED)\n",
        "torch.manual_seed(RANDOM_SEED)\n",
        "torch.random.manual_seed(RANDOM_SEED)\n",
        "torch.cuda.random.manual_seed_all(RANDOM_SEED)\n",
        "DEVICE = torch.device('cuda') if torch.cuda.is_available() else torch.device('cpu')"
      ]
    },
    {
      "cell_type": "code",
      "source": [
        "DEVICE"
      ],
      "metadata": {
        "colab": {
          "base_uri": "https://localhost:8080/"
        },
        "id": "mhrBFhNyi_G_",
        "outputId": "1b7fe761-e3fe-4a8b-df34-c70fc5a61458"
      },
      "execution_count": 7,
      "outputs": [
        {
          "output_type": "execute_result",
          "data": {
            "text/plain": [
              "device(type='cuda')"
            ]
          },
          "metadata": {},
          "execution_count": 7
        }
      ]
    },
    {
      "cell_type": "code",
      "execution_count": 8,
      "metadata": {
        "id": "0ju2WAkkRTip"
      },
      "outputs": [],
      "source": [
        "PRE_TRAINED_MODEL_NAME = 'bert-base-uncased'"
      ]
    },
    {
      "cell_type": "code",
      "source": [
        "!nvidia-smi"
      ],
      "metadata": {
        "colab": {
          "base_uri": "https://localhost:8080/"
        },
        "id": "DKbWHKUrh38A",
        "outputId": "fa0e2dfc-60fc-46bc-e6a9-ab2765e159a0"
      },
      "execution_count": 9,
      "outputs": [
        {
          "output_type": "stream",
          "name": "stdout",
          "text": [
            "Mon Nov 14 19:04:09 2022       \n",
            "+-----------------------------------------------------------------------------+\n",
            "| NVIDIA-SMI 460.32.03    Driver Version: 460.32.03    CUDA Version: 11.2     |\n",
            "|-------------------------------+----------------------+----------------------+\n",
            "| GPU  Name        Persistence-M| Bus-Id        Disp.A | Volatile Uncorr. ECC |\n",
            "| Fan  Temp  Perf  Pwr:Usage/Cap|         Memory-Usage | GPU-Util  Compute M. |\n",
            "|                               |                      |               MIG M. |\n",
            "|===============================+======================+======================|\n",
            "|   0  Tesla T4            Off  | 00000000:00:04.0 Off |                    0 |\n",
            "| N/A   45C    P8    12W /  70W |      3MiB / 15109MiB |      0%      Default |\n",
            "|                               |                      |                  N/A |\n",
            "+-------------------------------+----------------------+----------------------+\n",
            "                                                                               \n",
            "+-----------------------------------------------------------------------------+\n",
            "| Processes:                                                                  |\n",
            "|  GPU   GI   CI        PID   Type   Process name                  GPU Memory |\n",
            "|        ID   ID                                                   Usage      |\n",
            "|=============================================================================|\n",
            "|  No running processes found                                                 |\n",
            "+-----------------------------------------------------------------------------+\n"
          ]
        }
      ]
    },
    {
      "cell_type": "markdown",
      "metadata": {
        "id": "Vo-R50D2RTiq"
      },
      "source": [
        "# LOAD DATA"
      ]
    },
    {
      "cell_type": "code",
      "execution_count": 10,
      "metadata": {
        "id": "Ygf2L_rARTiq"
      },
      "outputs": [],
      "source": [
        "target_dir = \"./output_bert_Ohsumed\""
      ]
    },
    {
      "cell_type": "code",
      "execution_count": 11,
      "metadata": {
        "id": "HvRiD3N6RTis"
      },
      "outputs": [],
      "source": [
        "with open('ohsumed_dataset.pkl','rb') as ohsumed_file:\n",
        "     source = pickle.load(ohsumed_file)"
      ]
    },
    {
      "cell_type": "code",
      "execution_count": 12,
      "metadata": {
        "colab": {
          "base_uri": "https://localhost:8080/",
          "height": 423
        },
        "id": "VAZiivmPRTiv",
        "outputId": "86298025-a018-4b9b-c04b-10f15eaac90a"
      },
      "outputs": [
        {
          "output_type": "execute_result",
          "data": {
            "text/plain": [
              "                                                   texts   Y\n",
              "0      Haemophilus influenzae meningitis with prolong...   0\n",
              "1      Augmentation mentoplasty using Mersilene mesh....   0\n",
              "2      Multiple intracranial mucoceles associated wit...   0\n",
              "3      Replacement of an aortic valve cusp after neon...   0\n",
              "4      Mucosal intussusception to avoid ascending cho...   0\n",
              "...                                                  ...  ..\n",
              "56979  Ionized calcium in blood: studies on patients ...  22\n",
              "56980  Effects of immediate postoperative enteral nut...  22\n",
              "56981  Effects of enteral fat emulsion on fat absorpt...  22\n",
              "56982  Inhibition of early atherogenesis in transgeni...  22\n",
              "56983  A tRNA(Lys) mutation in the mtDNA is the causa...  22\n",
              "\n",
              "[56984 rows x 2 columns]"
            ],
            "text/html": [
              "\n",
              "  <div id=\"df-ce687878-5850-4f81-8102-47583e3c9b82\">\n",
              "    <div class=\"colab-df-container\">\n",
              "      <div>\n",
              "<style scoped>\n",
              "    .dataframe tbody tr th:only-of-type {\n",
              "        vertical-align: middle;\n",
              "    }\n",
              "\n",
              "    .dataframe tbody tr th {\n",
              "        vertical-align: top;\n",
              "    }\n",
              "\n",
              "    .dataframe thead th {\n",
              "        text-align: right;\n",
              "    }\n",
              "</style>\n",
              "<table border=\"1\" class=\"dataframe\">\n",
              "  <thead>\n",
              "    <tr style=\"text-align: right;\">\n",
              "      <th></th>\n",
              "      <th>texts</th>\n",
              "      <th>Y</th>\n",
              "    </tr>\n",
              "  </thead>\n",
              "  <tbody>\n",
              "    <tr>\n",
              "      <th>0</th>\n",
              "      <td>Haemophilus influenzae meningitis with prolong...</td>\n",
              "      <td>0</td>\n",
              "    </tr>\n",
              "    <tr>\n",
              "      <th>1</th>\n",
              "      <td>Augmentation mentoplasty using Mersilene mesh....</td>\n",
              "      <td>0</td>\n",
              "    </tr>\n",
              "    <tr>\n",
              "      <th>2</th>\n",
              "      <td>Multiple intracranial mucoceles associated wit...</td>\n",
              "      <td>0</td>\n",
              "    </tr>\n",
              "    <tr>\n",
              "      <th>3</th>\n",
              "      <td>Replacement of an aortic valve cusp after neon...</td>\n",
              "      <td>0</td>\n",
              "    </tr>\n",
              "    <tr>\n",
              "      <th>4</th>\n",
              "      <td>Mucosal intussusception to avoid ascending cho...</td>\n",
              "      <td>0</td>\n",
              "    </tr>\n",
              "    <tr>\n",
              "      <th>...</th>\n",
              "      <td>...</td>\n",
              "      <td>...</td>\n",
              "    </tr>\n",
              "    <tr>\n",
              "      <th>56979</th>\n",
              "      <td>Ionized calcium in blood: studies on patients ...</td>\n",
              "      <td>22</td>\n",
              "    </tr>\n",
              "    <tr>\n",
              "      <th>56980</th>\n",
              "      <td>Effects of immediate postoperative enteral nut...</td>\n",
              "      <td>22</td>\n",
              "    </tr>\n",
              "    <tr>\n",
              "      <th>56981</th>\n",
              "      <td>Effects of enteral fat emulsion on fat absorpt...</td>\n",
              "      <td>22</td>\n",
              "    </tr>\n",
              "    <tr>\n",
              "      <th>56982</th>\n",
              "      <td>Inhibition of early atherogenesis in transgeni...</td>\n",
              "      <td>22</td>\n",
              "    </tr>\n",
              "    <tr>\n",
              "      <th>56983</th>\n",
              "      <td>A tRNA(Lys) mutation in the mtDNA is the causa...</td>\n",
              "      <td>22</td>\n",
              "    </tr>\n",
              "  </tbody>\n",
              "</table>\n",
              "<p>56984 rows × 2 columns</p>\n",
              "</div>\n",
              "      <button class=\"colab-df-convert\" onclick=\"convertToInteractive('df-ce687878-5850-4f81-8102-47583e3c9b82')\"\n",
              "              title=\"Convert this dataframe to an interactive table.\"\n",
              "              style=\"display:none;\">\n",
              "        \n",
              "  <svg xmlns=\"http://www.w3.org/2000/svg\" height=\"24px\"viewBox=\"0 0 24 24\"\n",
              "       width=\"24px\">\n",
              "    <path d=\"M0 0h24v24H0V0z\" fill=\"none\"/>\n",
              "    <path d=\"M18.56 5.44l.94 2.06.94-2.06 2.06-.94-2.06-.94-.94-2.06-.94 2.06-2.06.94zm-11 1L8.5 8.5l.94-2.06 2.06-.94-2.06-.94L8.5 2.5l-.94 2.06-2.06.94zm10 10l.94 2.06.94-2.06 2.06-.94-2.06-.94-.94-2.06-.94 2.06-2.06.94z\"/><path d=\"M17.41 7.96l-1.37-1.37c-.4-.4-.92-.59-1.43-.59-.52 0-1.04.2-1.43.59L10.3 9.45l-7.72 7.72c-.78.78-.78 2.05 0 2.83L4 21.41c.39.39.9.59 1.41.59.51 0 1.02-.2 1.41-.59l7.78-7.78 2.81-2.81c.8-.78.8-2.07 0-2.86zM5.41 20L4 18.59l7.72-7.72 1.47 1.35L5.41 20z\"/>\n",
              "  </svg>\n",
              "      </button>\n",
              "      \n",
              "  <style>\n",
              "    .colab-df-container {\n",
              "      display:flex;\n",
              "      flex-wrap:wrap;\n",
              "      gap: 12px;\n",
              "    }\n",
              "\n",
              "    .colab-df-convert {\n",
              "      background-color: #E8F0FE;\n",
              "      border: none;\n",
              "      border-radius: 50%;\n",
              "      cursor: pointer;\n",
              "      display: none;\n",
              "      fill: #1967D2;\n",
              "      height: 32px;\n",
              "      padding: 0 0 0 0;\n",
              "      width: 32px;\n",
              "    }\n",
              "\n",
              "    .colab-df-convert:hover {\n",
              "      background-color: #E2EBFA;\n",
              "      box-shadow: 0px 1px 2px rgba(60, 64, 67, 0.3), 0px 1px 3px 1px rgba(60, 64, 67, 0.15);\n",
              "      fill: #174EA6;\n",
              "    }\n",
              "\n",
              "    [theme=dark] .colab-df-convert {\n",
              "      background-color: #3B4455;\n",
              "      fill: #D2E3FC;\n",
              "    }\n",
              "\n",
              "    [theme=dark] .colab-df-convert:hover {\n",
              "      background-color: #434B5C;\n",
              "      box-shadow: 0px 1px 3px 1px rgba(0, 0, 0, 0.15);\n",
              "      filter: drop-shadow(0px 1px 2px rgba(0, 0, 0, 0.3));\n",
              "      fill: #FFFFFF;\n",
              "    }\n",
              "  </style>\n",
              "\n",
              "      <script>\n",
              "        const buttonEl =\n",
              "          document.querySelector('#df-ce687878-5850-4f81-8102-47583e3c9b82 button.colab-df-convert');\n",
              "        buttonEl.style.display =\n",
              "          google.colab.kernel.accessAllowed ? 'block' : 'none';\n",
              "\n",
              "        async function convertToInteractive(key) {\n",
              "          const element = document.querySelector('#df-ce687878-5850-4f81-8102-47583e3c9b82');\n",
              "          const dataTable =\n",
              "            await google.colab.kernel.invokeFunction('convertToInteractive',\n",
              "                                                     [key], {});\n",
              "          if (!dataTable) return;\n",
              "\n",
              "          const docLinkHtml = 'Like what you see? Visit the ' +\n",
              "            '<a target=\"_blank\" href=https://colab.research.google.com/notebooks/data_table.ipynb>data table notebook</a>'\n",
              "            + ' to learn more about interactive tables.';\n",
              "          element.innerHTML = '';\n",
              "          dataTable['output_type'] = 'display_data';\n",
              "          await google.colab.output.renderOutput(dataTable, element);\n",
              "          const docLink = document.createElement('div');\n",
              "          docLink.innerHTML = docLinkHtml;\n",
              "          element.appendChild(docLink);\n",
              "        }\n",
              "      </script>\n",
              "    </div>\n",
              "  </div>\n",
              "  "
            ]
          },
          "metadata": {},
          "execution_count": 12
        }
      ],
      "source": [
        "source"
      ]
    },
    {
      "cell_type": "code",
      "execution_count": 13,
      "metadata": {
        "colab": {
          "base_uri": "https://localhost:8080/"
        },
        "id": "zo--zgNsRTiw",
        "outputId": "ac426be8-bd63-4b19-ad65-f1249dfa730b"
      },
      "outputs": [
        {
          "output_type": "stream",
          "name": "stdout",
          "text": [
            "<class 'pandas.core.frame.DataFrame'>\n",
            "RangeIndex: 56984 entries, 0 to 56983\n",
            "Data columns (total 2 columns):\n",
            " #   Column  Non-Null Count  Dtype \n",
            "---  ------  --------------  ----- \n",
            " 0   texts   56984 non-null  object\n",
            " 1   Y       56984 non-null  int64 \n",
            "dtypes: int64(1), object(1)\n",
            "memory usage: 890.5+ KB\n"
          ]
        }
      ],
      "source": [
        "source.info()"
      ]
    },
    {
      "cell_type": "code",
      "execution_count": 14,
      "metadata": {
        "id": "QO0_oUHZRTix"
      },
      "outputs": [],
      "source": [
        "target_column = 'Y'"
      ]
    },
    {
      "cell_type": "code",
      "execution_count": 15,
      "metadata": {
        "id": "4o2QAzo2RTix"
      },
      "outputs": [],
      "source": [
        "train_df, non_train_df = train_test_split(source, test_size=0.2, random_state=RANDOM_SEED,stratify=source[target_column].to_list())"
      ]
    },
    {
      "cell_type": "code",
      "execution_count": 16,
      "metadata": {
        "id": "4RDcsjp3RTix"
      },
      "outputs": [],
      "source": [
        "dev_df, test_df = train_test_split(non_train_df, test_size=0.5, random_state=RANDOM_SEED,stratify=non_train_df[target_column].to_list())"
      ]
    },
    {
      "cell_type": "code",
      "execution_count": 17,
      "metadata": {
        "id": "6R-UeuEnRTiy"
      },
      "outputs": [],
      "source": [
        "#train_df, non_train_df = train_test_split(source, test_size=0.8, random_state=RANDOM_SEED,stratify=source[target_column].to_list())"
      ]
    },
    {
      "cell_type": "code",
      "execution_count": 18,
      "metadata": {
        "id": "YctlIO-qRTiy"
      },
      "outputs": [],
      "source": [
        "#dev_df, non_dev_df = train_test_split(non_train_df, test_size=0.95, random_state=RANDOM_SEED,stratify=non_train_df[target_column].to_list())"
      ]
    },
    {
      "cell_type": "code",
      "execution_count": 19,
      "metadata": {
        "id": "3rXOreikRTiy"
      },
      "outputs": [],
      "source": [
        "#test_df, non_test_df = train_test_split(non_dev_df, test_size=0.95, random_state=RANDOM_SEED,stratify=non_dev_df[target_column].to_list())"
      ]
    },
    {
      "cell_type": "code",
      "execution_count": 20,
      "metadata": {
        "colab": {
          "base_uri": "https://localhost:8080/"
        },
        "id": "zgTPQj3PRTiz",
        "outputId": "aed80795-18cd-45f1-85dc-de33f23fc569"
      },
      "outputs": [
        {
          "output_type": "execute_result",
          "data": {
            "text/plain": [
              "(45587, 5698, 5699)"
            ]
          },
          "metadata": {},
          "execution_count": 20
        }
      ],
      "source": [
        "len(train_df), len(dev_df), len(test_df)"
      ]
    },
    {
      "cell_type": "code",
      "execution_count": 21,
      "metadata": {
        "id": "-GiCePAiRTiz"
      },
      "outputs": [],
      "source": [
        "if not os.path.exists(target_dir):\n",
        "    os.makedirs(target_dir)"
      ]
    },
    {
      "cell_type": "markdown",
      "metadata": {
        "id": "XaJRqmLIRTi0"
      },
      "source": [
        "# MODEL"
      ]
    },
    {
      "cell_type": "code",
      "execution_count": 22,
      "metadata": {
        "id": "NZ6CRCqtRTi0"
      },
      "outputs": [],
      "source": [
        "class BertModel(nn.Module):\n",
        "    def __init__(self, requires_grad = True):\n",
        "        super(BertModel, self).__init__()\n",
        "        self.bert = BertForSequenceClassification.from_pretrained(PRE_TRAINED_MODEL_NAME,num_labels = len(source.groupby(target_column).count().index))\n",
        "        self.tokenizer = AutoTokenizer.from_pretrained(PRE_TRAINED_MODEL_NAME, do_lower_case=True)\n",
        "        self.requires_grad = requires_grad\n",
        "        self.device = torch.device(DEVICE)\n",
        "        for param in self.bert.parameters():\n",
        "            param.requires_grad = requires_grad  # Each parameter requires gradient\n",
        "\n",
        "    def forward(self, batch_seqs, batch_seq_masks, batch_seq_segments, labels):\n",
        "        loss, logits = self.bert(input_ids = batch_seqs, attention_mask = batch_seq_masks, \n",
        "                              token_type_ids=batch_seq_segments, labels = labels)[:2]\n",
        "        probabilities = nn.functional.softmax(logits, dim=-1)\n",
        "        return loss, logits, probabilities"
      ]
    },
    {
      "cell_type": "code",
      "execution_count": 23,
      "metadata": {
        "id": "YK7RndeORTi0",
        "colab": {
          "base_uri": "https://localhost:8080/",
          "height": 177,
          "referenced_widgets": [
            "d2333b9fabf04a5e9fd0fdf6350cd4e6",
            "f21e08ea85574db19c0dfca9832b2ff9",
            "00fe68c7f92d4c38bbe7a5cb2999adc8",
            "82471adc40bb455a9b2341f40d65c9f3",
            "8a21ed11ff6341fc8f6342172a000043",
            "8f81247054d24c0a97c866c7ae51eb18",
            "113295bbd141438e892b02e5dc933643",
            "67c895ff19394968966d50ec94a8efb8",
            "ce41f5f5fd784b6cbc67c16a50047396",
            "1c1c47b2ccaf464db22b37f792ec990f",
            "8ce5fb7cac8c4fc685dfe2514b1f6f9c",
            "7fe326048e694d6583c0d2ad438ebe12",
            "b92db5fea91043f89443514e84ebcca2",
            "1b54dadc6517440da223819f74538add",
            "e7929a338e694337b9ae8cadf09a5e59",
            "7010b329023b4bf09966174c5ca2e820",
            "711666366f304368a8f4b12f87ba0807",
            "f4240152e2ef4e43ac72fa6e8c410cb6",
            "d600ca9fa7d94c2c9b04628b03bd0176",
            "481c520b04014b2fb42625eeef0ab304",
            "b920940b6f79471c8c7c66d421836ac3",
            "1d3f140a45b8486f9b82b9cf42ddd738",
            "06495ce5336b48ca99411ab35dc7010e",
            "ae92d72cfa2d401f8c123c95294d58f0",
            "424481f8d0234e6d8174c1cc22c98356",
            "e7c5117b828245419e2f72e8073411c7",
            "2f95b18e5bea4fa1b85e49c35c2df6db",
            "b9a4780d14f04602b61f86a71903e561",
            "cd15c407c54d4f5991dc639392d47018",
            "75bca5ffa1bb4f3ab57a6bbee8fc061d",
            "d1de5c55ca414b7bb9632153d5a8067f",
            "aaa3189158114f03957da40f18ff987e",
            "27e9d1ec0ee248a2bca83fea10a667ea",
            "ff167ac808dd479cb5693141324cfc9d",
            "bdeaaef7e44c4d29938bd1a5e6ff50e9",
            "623287e6b9b24426ad6b39d610d26d0d",
            "2803ee36ad4c49508c3539eb00d234d7",
            "3580362dfff8455a8234d12b3839d858",
            "7eea03115a22400180fbc250f8a2288e",
            "e19bf0175f7e4e3bb66c2b64d98e43ef",
            "d54515401eb742ee88140c75063f5148",
            "ab8fcdb197c34a8eae1ed4b19ef1d6d1",
            "89640f57f7974bfd93769cf716ac6738",
            "f64d0571dc0047bcafa3e5c08d2dad11",
            "2f6c2c9c2f2a4af484b574d91b07b5d6",
            "f61d4d53872b423b8df834418796d88f",
            "bfa643057eda455dbc553f246769b8b9",
            "8b04dd7771b54ee6806b77f28d9fb5d6",
            "ceda583a1e0a4a3ba4c6598f0185875a",
            "ed55c7c003f94d1088ab885fa5d8bade",
            "932765752f744805bf0fb21dd698ef4e",
            "c6050c13c46f40fbbf48ea3d832235a3",
            "e898b189730b466a94ec25425d8e80fc",
            "323b97356e334b9ead6d5cfc8a15a0a3",
            "8b600163f6664ad6ab08615d24992144"
          ]
        },
        "outputId": "8a80ebdb-2a73-4544-fac9-8306818be308"
      },
      "outputs": [
        {
          "output_type": "display_data",
          "data": {
            "text/plain": [
              "Downloading:   0%|          | 0.00/570 [00:00<?, ?B/s]"
            ],
            "application/vnd.jupyter.widget-view+json": {
              "version_major": 2,
              "version_minor": 0,
              "model_id": "d2333b9fabf04a5e9fd0fdf6350cd4e6"
            }
          },
          "metadata": {}
        },
        {
          "output_type": "display_data",
          "data": {
            "text/plain": [
              "Downloading:   0%|          | 0.00/440M [00:00<?, ?B/s]"
            ],
            "application/vnd.jupyter.widget-view+json": {
              "version_major": 2,
              "version_minor": 0,
              "model_id": "7fe326048e694d6583c0d2ad438ebe12"
            }
          },
          "metadata": {}
        },
        {
          "output_type": "display_data",
          "data": {
            "text/plain": [
              "Downloading:   0%|          | 0.00/28.0 [00:00<?, ?B/s]"
            ],
            "application/vnd.jupyter.widget-view+json": {
              "version_major": 2,
              "version_minor": 0,
              "model_id": "06495ce5336b48ca99411ab35dc7010e"
            }
          },
          "metadata": {}
        },
        {
          "output_type": "display_data",
          "data": {
            "text/plain": [
              "Downloading:   0%|          | 0.00/232k [00:00<?, ?B/s]"
            ],
            "application/vnd.jupyter.widget-view+json": {
              "version_major": 2,
              "version_minor": 0,
              "model_id": "ff167ac808dd479cb5693141324cfc9d"
            }
          },
          "metadata": {}
        },
        {
          "output_type": "display_data",
          "data": {
            "text/plain": [
              "Downloading:   0%|          | 0.00/466k [00:00<?, ?B/s]"
            ],
            "application/vnd.jupyter.widget-view+json": {
              "version_major": 2,
              "version_minor": 0,
              "model_id": "2f6c2c9c2f2a4af484b574d91b07b5d6"
            }
          },
          "metadata": {}
        }
      ],
      "source": [
        "bertmodel = BertModel(requires_grad = True)"
      ]
    },
    {
      "cell_type": "code",
      "execution_count": 24,
      "metadata": {
        "colab": {
          "base_uri": "https://localhost:8080/"
        },
        "id": "iQ0PmWvURTi0",
        "outputId": "8b07ceb9-449e-4dab-e322-3952a627b39d"
      },
      "outputs": [
        {
          "output_type": "execute_result",
          "data": {
            "text/plain": [
              "=====================================================================================\n",
              "Layer (type:depth-idx)                                       Param #\n",
              "=====================================================================================\n",
              "BertModel                                                    --\n",
              "├─BertForSequenceClassification: 1-1                         --\n",
              "│    └─BertModel: 2-1                                        --\n",
              "│    │    └─BertEmbeddings: 3-1                              23,837,184\n",
              "│    │    └─BertEncoder: 3-2                                 85,054,464\n",
              "│    │    └─BertPooler: 3-3                                  590,592\n",
              "│    └─Dropout: 2-2                                          --\n",
              "│    └─Linear: 2-3                                           17,687\n",
              "=====================================================================================\n",
              "Total params: 109,499,927\n",
              "Trainable params: 109,499,927\n",
              "Non-trainable params: 0\n",
              "====================================================================================="
            ]
          },
          "metadata": {},
          "execution_count": 24
        }
      ],
      "source": [
        "summary(bertmodel)"
      ]
    },
    {
      "cell_type": "code",
      "execution_count": 25,
      "metadata": {
        "colab": {
          "base_uri": "https://localhost:8080/"
        },
        "id": "wU2h5QraRTi1",
        "outputId": "28980d78-829e-49c3-97c1-cbfa6d57a6bd"
      },
      "outputs": [
        {
          "output_type": "execute_result",
          "data": {
            "text/plain": [
              "BertModel(\n",
              "  (embeddings): BertEmbeddings(\n",
              "    (word_embeddings): Embedding(30522, 768, padding_idx=0)\n",
              "    (position_embeddings): Embedding(512, 768)\n",
              "    (token_type_embeddings): Embedding(2, 768)\n",
              "    (LayerNorm): LayerNorm((768,), eps=1e-12, elementwise_affine=True)\n",
              "    (dropout): Dropout(p=0.1, inplace=False)\n",
              "  )\n",
              "  (encoder): BertEncoder(\n",
              "    (layer): ModuleList(\n",
              "      (0): BertLayer(\n",
              "        (attention): BertAttention(\n",
              "          (self): BertSelfAttention(\n",
              "            (query): Linear(in_features=768, out_features=768, bias=True)\n",
              "            (key): Linear(in_features=768, out_features=768, bias=True)\n",
              "            (value): Linear(in_features=768, out_features=768, bias=True)\n",
              "            (dropout): Dropout(p=0.1, inplace=False)\n",
              "          )\n",
              "          (output): BertSelfOutput(\n",
              "            (dense): Linear(in_features=768, out_features=768, bias=True)\n",
              "            (LayerNorm): LayerNorm((768,), eps=1e-12, elementwise_affine=True)\n",
              "            (dropout): Dropout(p=0.1, inplace=False)\n",
              "          )\n",
              "        )\n",
              "        (intermediate): BertIntermediate(\n",
              "          (dense): Linear(in_features=768, out_features=3072, bias=True)\n",
              "          (intermediate_act_fn): GELUActivation()\n",
              "        )\n",
              "        (output): BertOutput(\n",
              "          (dense): Linear(in_features=3072, out_features=768, bias=True)\n",
              "          (LayerNorm): LayerNorm((768,), eps=1e-12, elementwise_affine=True)\n",
              "          (dropout): Dropout(p=0.1, inplace=False)\n",
              "        )\n",
              "      )\n",
              "      (1): BertLayer(\n",
              "        (attention): BertAttention(\n",
              "          (self): BertSelfAttention(\n",
              "            (query): Linear(in_features=768, out_features=768, bias=True)\n",
              "            (key): Linear(in_features=768, out_features=768, bias=True)\n",
              "            (value): Linear(in_features=768, out_features=768, bias=True)\n",
              "            (dropout): Dropout(p=0.1, inplace=False)\n",
              "          )\n",
              "          (output): BertSelfOutput(\n",
              "            (dense): Linear(in_features=768, out_features=768, bias=True)\n",
              "            (LayerNorm): LayerNorm((768,), eps=1e-12, elementwise_affine=True)\n",
              "            (dropout): Dropout(p=0.1, inplace=False)\n",
              "          )\n",
              "        )\n",
              "        (intermediate): BertIntermediate(\n",
              "          (dense): Linear(in_features=768, out_features=3072, bias=True)\n",
              "          (intermediate_act_fn): GELUActivation()\n",
              "        )\n",
              "        (output): BertOutput(\n",
              "          (dense): Linear(in_features=3072, out_features=768, bias=True)\n",
              "          (LayerNorm): LayerNorm((768,), eps=1e-12, elementwise_affine=True)\n",
              "          (dropout): Dropout(p=0.1, inplace=False)\n",
              "        )\n",
              "      )\n",
              "      (2): BertLayer(\n",
              "        (attention): BertAttention(\n",
              "          (self): BertSelfAttention(\n",
              "            (query): Linear(in_features=768, out_features=768, bias=True)\n",
              "            (key): Linear(in_features=768, out_features=768, bias=True)\n",
              "            (value): Linear(in_features=768, out_features=768, bias=True)\n",
              "            (dropout): Dropout(p=0.1, inplace=False)\n",
              "          )\n",
              "          (output): BertSelfOutput(\n",
              "            (dense): Linear(in_features=768, out_features=768, bias=True)\n",
              "            (LayerNorm): LayerNorm((768,), eps=1e-12, elementwise_affine=True)\n",
              "            (dropout): Dropout(p=0.1, inplace=False)\n",
              "          )\n",
              "        )\n",
              "        (intermediate): BertIntermediate(\n",
              "          (dense): Linear(in_features=768, out_features=3072, bias=True)\n",
              "          (intermediate_act_fn): GELUActivation()\n",
              "        )\n",
              "        (output): BertOutput(\n",
              "          (dense): Linear(in_features=3072, out_features=768, bias=True)\n",
              "          (LayerNorm): LayerNorm((768,), eps=1e-12, elementwise_affine=True)\n",
              "          (dropout): Dropout(p=0.1, inplace=False)\n",
              "        )\n",
              "      )\n",
              "      (3): BertLayer(\n",
              "        (attention): BertAttention(\n",
              "          (self): BertSelfAttention(\n",
              "            (query): Linear(in_features=768, out_features=768, bias=True)\n",
              "            (key): Linear(in_features=768, out_features=768, bias=True)\n",
              "            (value): Linear(in_features=768, out_features=768, bias=True)\n",
              "            (dropout): Dropout(p=0.1, inplace=False)\n",
              "          )\n",
              "          (output): BertSelfOutput(\n",
              "            (dense): Linear(in_features=768, out_features=768, bias=True)\n",
              "            (LayerNorm): LayerNorm((768,), eps=1e-12, elementwise_affine=True)\n",
              "            (dropout): Dropout(p=0.1, inplace=False)\n",
              "          )\n",
              "        )\n",
              "        (intermediate): BertIntermediate(\n",
              "          (dense): Linear(in_features=768, out_features=3072, bias=True)\n",
              "          (intermediate_act_fn): GELUActivation()\n",
              "        )\n",
              "        (output): BertOutput(\n",
              "          (dense): Linear(in_features=3072, out_features=768, bias=True)\n",
              "          (LayerNorm): LayerNorm((768,), eps=1e-12, elementwise_affine=True)\n",
              "          (dropout): Dropout(p=0.1, inplace=False)\n",
              "        )\n",
              "      )\n",
              "      (4): BertLayer(\n",
              "        (attention): BertAttention(\n",
              "          (self): BertSelfAttention(\n",
              "            (query): Linear(in_features=768, out_features=768, bias=True)\n",
              "            (key): Linear(in_features=768, out_features=768, bias=True)\n",
              "            (value): Linear(in_features=768, out_features=768, bias=True)\n",
              "            (dropout): Dropout(p=0.1, inplace=False)\n",
              "          )\n",
              "          (output): BertSelfOutput(\n",
              "            (dense): Linear(in_features=768, out_features=768, bias=True)\n",
              "            (LayerNorm): LayerNorm((768,), eps=1e-12, elementwise_affine=True)\n",
              "            (dropout): Dropout(p=0.1, inplace=False)\n",
              "          )\n",
              "        )\n",
              "        (intermediate): BertIntermediate(\n",
              "          (dense): Linear(in_features=768, out_features=3072, bias=True)\n",
              "          (intermediate_act_fn): GELUActivation()\n",
              "        )\n",
              "        (output): BertOutput(\n",
              "          (dense): Linear(in_features=3072, out_features=768, bias=True)\n",
              "          (LayerNorm): LayerNorm((768,), eps=1e-12, elementwise_affine=True)\n",
              "          (dropout): Dropout(p=0.1, inplace=False)\n",
              "        )\n",
              "      )\n",
              "      (5): BertLayer(\n",
              "        (attention): BertAttention(\n",
              "          (self): BertSelfAttention(\n",
              "            (query): Linear(in_features=768, out_features=768, bias=True)\n",
              "            (key): Linear(in_features=768, out_features=768, bias=True)\n",
              "            (value): Linear(in_features=768, out_features=768, bias=True)\n",
              "            (dropout): Dropout(p=0.1, inplace=False)\n",
              "          )\n",
              "          (output): BertSelfOutput(\n",
              "            (dense): Linear(in_features=768, out_features=768, bias=True)\n",
              "            (LayerNorm): LayerNorm((768,), eps=1e-12, elementwise_affine=True)\n",
              "            (dropout): Dropout(p=0.1, inplace=False)\n",
              "          )\n",
              "        )\n",
              "        (intermediate): BertIntermediate(\n",
              "          (dense): Linear(in_features=768, out_features=3072, bias=True)\n",
              "          (intermediate_act_fn): GELUActivation()\n",
              "        )\n",
              "        (output): BertOutput(\n",
              "          (dense): Linear(in_features=3072, out_features=768, bias=True)\n",
              "          (LayerNorm): LayerNorm((768,), eps=1e-12, elementwise_affine=True)\n",
              "          (dropout): Dropout(p=0.1, inplace=False)\n",
              "        )\n",
              "      )\n",
              "      (6): BertLayer(\n",
              "        (attention): BertAttention(\n",
              "          (self): BertSelfAttention(\n",
              "            (query): Linear(in_features=768, out_features=768, bias=True)\n",
              "            (key): Linear(in_features=768, out_features=768, bias=True)\n",
              "            (value): Linear(in_features=768, out_features=768, bias=True)\n",
              "            (dropout): Dropout(p=0.1, inplace=False)\n",
              "          )\n",
              "          (output): BertSelfOutput(\n",
              "            (dense): Linear(in_features=768, out_features=768, bias=True)\n",
              "            (LayerNorm): LayerNorm((768,), eps=1e-12, elementwise_affine=True)\n",
              "            (dropout): Dropout(p=0.1, inplace=False)\n",
              "          )\n",
              "        )\n",
              "        (intermediate): BertIntermediate(\n",
              "          (dense): Linear(in_features=768, out_features=3072, bias=True)\n",
              "          (intermediate_act_fn): GELUActivation()\n",
              "        )\n",
              "        (output): BertOutput(\n",
              "          (dense): Linear(in_features=3072, out_features=768, bias=True)\n",
              "          (LayerNorm): LayerNorm((768,), eps=1e-12, elementwise_affine=True)\n",
              "          (dropout): Dropout(p=0.1, inplace=False)\n",
              "        )\n",
              "      )\n",
              "      (7): BertLayer(\n",
              "        (attention): BertAttention(\n",
              "          (self): BertSelfAttention(\n",
              "            (query): Linear(in_features=768, out_features=768, bias=True)\n",
              "            (key): Linear(in_features=768, out_features=768, bias=True)\n",
              "            (value): Linear(in_features=768, out_features=768, bias=True)\n",
              "            (dropout): Dropout(p=0.1, inplace=False)\n",
              "          )\n",
              "          (output): BertSelfOutput(\n",
              "            (dense): Linear(in_features=768, out_features=768, bias=True)\n",
              "            (LayerNorm): LayerNorm((768,), eps=1e-12, elementwise_affine=True)\n",
              "            (dropout): Dropout(p=0.1, inplace=False)\n",
              "          )\n",
              "        )\n",
              "        (intermediate): BertIntermediate(\n",
              "          (dense): Linear(in_features=768, out_features=3072, bias=True)\n",
              "          (intermediate_act_fn): GELUActivation()\n",
              "        )\n",
              "        (output): BertOutput(\n",
              "          (dense): Linear(in_features=3072, out_features=768, bias=True)\n",
              "          (LayerNorm): LayerNorm((768,), eps=1e-12, elementwise_affine=True)\n",
              "          (dropout): Dropout(p=0.1, inplace=False)\n",
              "        )\n",
              "      )\n",
              "      (8): BertLayer(\n",
              "        (attention): BertAttention(\n",
              "          (self): BertSelfAttention(\n",
              "            (query): Linear(in_features=768, out_features=768, bias=True)\n",
              "            (key): Linear(in_features=768, out_features=768, bias=True)\n",
              "            (value): Linear(in_features=768, out_features=768, bias=True)\n",
              "            (dropout): Dropout(p=0.1, inplace=False)\n",
              "          )\n",
              "          (output): BertSelfOutput(\n",
              "            (dense): Linear(in_features=768, out_features=768, bias=True)\n",
              "            (LayerNorm): LayerNorm((768,), eps=1e-12, elementwise_affine=True)\n",
              "            (dropout): Dropout(p=0.1, inplace=False)\n",
              "          )\n",
              "        )\n",
              "        (intermediate): BertIntermediate(\n",
              "          (dense): Linear(in_features=768, out_features=3072, bias=True)\n",
              "          (intermediate_act_fn): GELUActivation()\n",
              "        )\n",
              "        (output): BertOutput(\n",
              "          (dense): Linear(in_features=3072, out_features=768, bias=True)\n",
              "          (LayerNorm): LayerNorm((768,), eps=1e-12, elementwise_affine=True)\n",
              "          (dropout): Dropout(p=0.1, inplace=False)\n",
              "        )\n",
              "      )\n",
              "      (9): BertLayer(\n",
              "        (attention): BertAttention(\n",
              "          (self): BertSelfAttention(\n",
              "            (query): Linear(in_features=768, out_features=768, bias=True)\n",
              "            (key): Linear(in_features=768, out_features=768, bias=True)\n",
              "            (value): Linear(in_features=768, out_features=768, bias=True)\n",
              "            (dropout): Dropout(p=0.1, inplace=False)\n",
              "          )\n",
              "          (output): BertSelfOutput(\n",
              "            (dense): Linear(in_features=768, out_features=768, bias=True)\n",
              "            (LayerNorm): LayerNorm((768,), eps=1e-12, elementwise_affine=True)\n",
              "            (dropout): Dropout(p=0.1, inplace=False)\n",
              "          )\n",
              "        )\n",
              "        (intermediate): BertIntermediate(\n",
              "          (dense): Linear(in_features=768, out_features=3072, bias=True)\n",
              "          (intermediate_act_fn): GELUActivation()\n",
              "        )\n",
              "        (output): BertOutput(\n",
              "          (dense): Linear(in_features=3072, out_features=768, bias=True)\n",
              "          (LayerNorm): LayerNorm((768,), eps=1e-12, elementwise_affine=True)\n",
              "          (dropout): Dropout(p=0.1, inplace=False)\n",
              "        )\n",
              "      )\n",
              "      (10): BertLayer(\n",
              "        (attention): BertAttention(\n",
              "          (self): BertSelfAttention(\n",
              "            (query): Linear(in_features=768, out_features=768, bias=True)\n",
              "            (key): Linear(in_features=768, out_features=768, bias=True)\n",
              "            (value): Linear(in_features=768, out_features=768, bias=True)\n",
              "            (dropout): Dropout(p=0.1, inplace=False)\n",
              "          )\n",
              "          (output): BertSelfOutput(\n",
              "            (dense): Linear(in_features=768, out_features=768, bias=True)\n",
              "            (LayerNorm): LayerNorm((768,), eps=1e-12, elementwise_affine=True)\n",
              "            (dropout): Dropout(p=0.1, inplace=False)\n",
              "          )\n",
              "        )\n",
              "        (intermediate): BertIntermediate(\n",
              "          (dense): Linear(in_features=768, out_features=3072, bias=True)\n",
              "          (intermediate_act_fn): GELUActivation()\n",
              "        )\n",
              "        (output): BertOutput(\n",
              "          (dense): Linear(in_features=3072, out_features=768, bias=True)\n",
              "          (LayerNorm): LayerNorm((768,), eps=1e-12, elementwise_affine=True)\n",
              "          (dropout): Dropout(p=0.1, inplace=False)\n",
              "        )\n",
              "      )\n",
              "      (11): BertLayer(\n",
              "        (attention): BertAttention(\n",
              "          (self): BertSelfAttention(\n",
              "            (query): Linear(in_features=768, out_features=768, bias=True)\n",
              "            (key): Linear(in_features=768, out_features=768, bias=True)\n",
              "            (value): Linear(in_features=768, out_features=768, bias=True)\n",
              "            (dropout): Dropout(p=0.1, inplace=False)\n",
              "          )\n",
              "          (output): BertSelfOutput(\n",
              "            (dense): Linear(in_features=768, out_features=768, bias=True)\n",
              "            (LayerNorm): LayerNorm((768,), eps=1e-12, elementwise_affine=True)\n",
              "            (dropout): Dropout(p=0.1, inplace=False)\n",
              "          )\n",
              "        )\n",
              "        (intermediate): BertIntermediate(\n",
              "          (dense): Linear(in_features=768, out_features=3072, bias=True)\n",
              "          (intermediate_act_fn): GELUActivation()\n",
              "        )\n",
              "        (output): BertOutput(\n",
              "          (dense): Linear(in_features=3072, out_features=768, bias=True)\n",
              "          (LayerNorm): LayerNorm((768,), eps=1e-12, elementwise_affine=True)\n",
              "          (dropout): Dropout(p=0.1, inplace=False)\n",
              "        )\n",
              "      )\n",
              "    )\n",
              "  )\n",
              "  (pooler): BertPooler(\n",
              "    (dense): Linear(in_features=768, out_features=768, bias=True)\n",
              "    (activation): Tanh()\n",
              "  )\n",
              ")"
            ]
          },
          "metadata": {},
          "execution_count": 25
        }
      ],
      "source": [
        "bertmodel.bert.base_model"
      ]
    },
    {
      "cell_type": "code",
      "execution_count": 26,
      "metadata": {
        "colab": {
          "base_uri": "https://localhost:8080/"
        },
        "id": "sYbD-DL1RTi1",
        "outputId": "1c6a3fbc-8416-4c17-be28-6abc1d8f1582"
      },
      "outputs": [
        {
          "output_type": "execute_result",
          "data": {
            "text/plain": [
              "Linear(in_features=768, out_features=23, bias=True)"
            ]
          },
          "metadata": {},
          "execution_count": 26
        }
      ],
      "source": [
        "bertmodel.bert.classifier"
      ]
    },
    {
      "cell_type": "code",
      "execution_count": 27,
      "metadata": {
        "id": "O3H3-cWKRTi2"
      },
      "outputs": [],
      "source": [
        "model = bertmodel.to(DEVICE)"
      ]
    },
    {
      "cell_type": "markdown",
      "metadata": {
        "id": "AejQ73p4RTi2"
      },
      "source": [
        "# PREPROCESSING"
      ]
    },
    {
      "cell_type": "code",
      "execution_count": 28,
      "metadata": {
        "id": "G3TNlseORTi2"
      },
      "outputs": [],
      "source": [
        "tokenizer = bertmodel.tokenizer"
      ]
    },
    {
      "cell_type": "code",
      "execution_count": 29,
      "metadata": {
        "colab": {
          "base_uri": "https://localhost:8080/"
        },
        "id": "Z4eOjdMgRTi2",
        "outputId": "c1db9cdd-cc5e-4d3a-8045-89bf124de8be"
      },
      "outputs": [
        {
          "output_type": "execute_result",
          "data": {
            "text/plain": [
              "('[SEP]', 102)"
            ]
          },
          "metadata": {},
          "execution_count": 29
        }
      ],
      "source": [
        "tokenizer.sep_token, tokenizer.sep_token_id"
      ]
    },
    {
      "cell_type": "code",
      "execution_count": 30,
      "metadata": {
        "colab": {
          "base_uri": "https://localhost:8080/"
        },
        "id": "oAAx-F_JRTi2",
        "outputId": "993ab9c7-6a40-45ce-be2b-2ea94ddc652f"
      },
      "outputs": [
        {
          "output_type": "execute_result",
          "data": {
            "text/plain": [
              "('[CLS]', 101)"
            ]
          },
          "metadata": {},
          "execution_count": 30
        }
      ],
      "source": [
        "tokenizer.cls_token, tokenizer.cls_token_id"
      ]
    },
    {
      "cell_type": "code",
      "execution_count": 31,
      "metadata": {
        "colab": {
          "base_uri": "https://localhost:8080/"
        },
        "id": "0nmADuXTRTi3",
        "outputId": "c3e9e776-d3eb-4860-b65e-87f2f8ceb198"
      },
      "outputs": [
        {
          "output_type": "execute_result",
          "data": {
            "text/plain": [
              "('[PAD]', 0)"
            ]
          },
          "metadata": {},
          "execution_count": 31
        }
      ],
      "source": [
        "tokenizer.pad_token, tokenizer.pad_token_id"
      ]
    },
    {
      "cell_type": "markdown",
      "metadata": {
        "id": "NCuxVdHPRTi3"
      },
      "source": [
        "# DATASET"
      ]
    },
    {
      "cell_type": "code",
      "execution_count": 32,
      "metadata": {
        "id": "MDmZdbkPRTi3"
      },
      "outputs": [],
      "source": [
        "class DataPrecessForSentence(Dataset):\n",
        "    \"\"\"\n",
        "    Encoding sentences\n",
        "    \"\"\"\n",
        "    def __init__(self, bert_tokenizer, df, max_seq_len = 50):\n",
        "        super(DataPrecessForSentence, self).__init__()\n",
        "        self.bert_tokenizer = bert_tokenizer\n",
        "        self.max_seq_len = max_seq_len\n",
        "        self.input_ids, self.attention_mask, self.token_type_ids, self.labels = self.get_input(df)\n",
        "        \n",
        "    def __len__(self):\n",
        "        return len(self.labels)\n",
        "\n",
        "    def __getitem__(self, idx):\n",
        "        return self.input_ids[idx], self.attention_mask[idx], self.token_type_ids[idx], self.labels[idx]\n",
        "        \n",
        "    # Convert dataframe to tensor\n",
        "    def get_input(self, df):\n",
        "        sentences = df['texts'].values\n",
        "        labels = df[target_column].values\n",
        "        \n",
        "        # tokenizer\n",
        "        tokens_seq = list(map(self.bert_tokenizer.tokenize, sentences)) # list of shape [sentence_len, token_len]\n",
        "        \n",
        "        # Get fixed-length sequence and its mask\n",
        "        result = list(map(self.trunate_and_pad, tokens_seq))\n",
        "        \n",
        "        input_ids = [i[0] for i in result]\n",
        "        attention_mask = [i[1] for i in result]\n",
        "        token_type_ids = [i[2] for i in result]\n",
        "        \n",
        "        return (\n",
        "               torch.Tensor(input_ids).type(torch.long), \n",
        "               torch.Tensor(attention_mask).type(torch.long),\n",
        "               torch.Tensor(token_type_ids).type(torch.long), \n",
        "               torch.Tensor(labels).type(torch.long)\n",
        "               )\n",
        "    \n",
        "    \n",
        "    def trunate_and_pad(self, tokens_seq):\n",
        "        \n",
        "        # Concat '[CLS]' at the beginning\n",
        "        tokens_seq = ['[CLS]'] + tokens_seq     \n",
        "        # Truncate sequences of which the lengths exceed the max_seq_len\n",
        "        if len(tokens_seq) > self.max_seq_len:\n",
        "            tokens_seq = tokens_seq[0 : self.max_seq_len]           \n",
        "        # Generate padding\n",
        "        padding = [0] * (self.max_seq_len - len(tokens_seq))       \n",
        "        # Convert tokens_seq to token_ids\n",
        "        input_ids = self.bert_tokenizer.convert_tokens_to_ids(tokens_seq)\n",
        "        input_ids += padding   \n",
        "        # Create attention_mask\n",
        "        attention_mask = [1] * len(tokens_seq) + padding     \n",
        "        # Create token_type_ids\n",
        "        token_type_ids = [0] * (self.max_seq_len)\n",
        "        \n",
        "        assert len(input_ids) == self.max_seq_len\n",
        "        assert len(attention_mask) == self.max_seq_len\n",
        "        assert len(token_type_ids) == self.max_seq_len\n",
        "        \n",
        "        return input_ids, attention_mask, token_type_ids"
      ]
    },
    {
      "cell_type": "code",
      "execution_count": 33,
      "metadata": {
        "colab": {
          "base_uri": "https://localhost:8080/"
        },
        "id": "2EBByNECRTi4",
        "outputId": "5a80d350-512a-4045-c56b-932ae3f70881"
      },
      "outputs": [
        {
          "output_type": "execute_result",
          "data": {
            "text/plain": [
              "512"
            ]
          },
          "metadata": {},
          "execution_count": 33
        }
      ],
      "source": [
        "# sentences = (train_df['texts'].values, dev_df['texts'].values, test_df['texts'].values)\n",
        "# sp = (list(map(tokenizer.tokenize, sentences[0])), list(map(tokenizer.tokenize, sentences[1])), list(map(tokenizer.tokenize, sentences[2])))\n",
        "# len_sp = (list(map(len,sp[0])),list(map(len,sp[1])),list(map(len,sp[2])))\n",
        "# max_sp = max(len_sp[0]), max(len_sp[1]), max(len_sp[2])\n",
        "# if max(max_sp) > 512:\n",
        "#     MAX_LEN = 512\n",
        "# else:\n",
        "#     MAX_LEM = max(max_sp)\n",
        "# del sentences, sp, len_sp, max_sp\n",
        "MAX_LEN = 512\n",
        "MAX_LEN"
      ]
    },
    {
      "cell_type": "code",
      "execution_count": 34,
      "metadata": {
        "id": "1r0NWHdHRTi4"
      },
      "outputs": [],
      "source": [
        "BATCH_SIZE = 12"
      ]
    },
    {
      "cell_type": "code",
      "execution_count": 35,
      "metadata": {
        "id": "jCVVY03yRTi4"
      },
      "outputs": [],
      "source": [
        "train_data = DataPrecessForSentence(tokenizer, train_df, max_seq_len = MAX_LEN)\n",
        "train_loader = DataLoader(train_data, shuffle=True, batch_size=BATCH_SIZE)"
      ]
    },
    {
      "cell_type": "code",
      "execution_count": 36,
      "metadata": {
        "id": "JuX5il0IRTi5"
      },
      "outputs": [],
      "source": [
        "dev_data = DataPrecessForSentence(tokenizer,dev_df, max_seq_len = MAX_LEN)\n",
        "dev_loader = DataLoader(dev_data, shuffle=True, batch_size=BATCH_SIZE)"
      ]
    },
    {
      "cell_type": "code",
      "execution_count": 37,
      "metadata": {
        "id": "0dn96KafRTi5"
      },
      "outputs": [],
      "source": [
        "test_data = DataPrecessForSentence(tokenizer,test_df, max_seq_len = MAX_LEN)\n",
        "test_loader = DataLoader(test_data, shuffle=False, batch_size=BATCH_SIZE)"
      ]
    },
    {
      "cell_type": "markdown",
      "metadata": {
        "id": "0x4siYYdRTi5"
      },
      "source": [
        "# TRAIN"
      ]
    },
    {
      "cell_type": "code",
      "execution_count": 38,
      "metadata": {
        "id": "8BETDwQARTi5"
      },
      "outputs": [],
      "source": [
        "param_optimizer = list(model.named_parameters())\n",
        "no_decay = ['bias', 'LayerNorm.bias', 'LayerNorm.weight']\n",
        "LR = 2e-05\n",
        "optimizer_grouped_parameters = [\n",
        "    {\n",
        "    'params':[p for n, p in param_optimizer if not any(nd in n for nd in no_decay)],\n",
        "    'weight_decay':0.01\n",
        "    },\n",
        "    {\n",
        "    'params':[p for n, p in param_optimizer if any(nd in n for nd in no_decay)],\n",
        "    'weight_decay':0.0\n",
        "    }\n",
        "]\n",
        "optimizer = optim.AdamW(optimizer_grouped_parameters, lr=LR)"
      ]
    },
    {
      "cell_type": "code",
      "execution_count": 39,
      "metadata": {
        "id": "sGNF89DKRTi6"
      },
      "outputs": [],
      "source": [
        "scheduler = torch.optim.lr_scheduler.ReduceLROnPlateau(optimizer, mode=\"max\", factor=0.85, patience=0)"
      ]
    },
    {
      "cell_type": "code",
      "execution_count": 50,
      "metadata": {
        "id": "VN1V7coRRTi6"
      },
      "outputs": [],
      "source": [
        "def Metric(y_true, y_pred):\n",
        "    \"\"\"\n",
        "    compute and show the classification result\n",
        "    \"\"\"\n",
        "    accuracy = accuracy_score(y_true, y_pred)\n",
        "    macro_precision = precision_score(y_true, y_pred, average='macro')\n",
        "    macro_recall = recall_score(y_true, y_pred, average='macro')\n",
        "    weighted_f1 = f1_score(y_true, y_pred, average='macro')\n",
        "    target_names = [f'class_{i}' for i in set(source[target_column].values)]\n",
        "    report = classification_report(y_true, y_pred, target_names=target_names, digits=3)\n",
        "\n",
        "    print('Accuracy: {:.1%}\\nPrecision: {:.1%}\\nRecall: {:.1%}\\nF1: {:.1%}'.format(accuracy, macro_precision,\n",
        "                                           macro_recall, weighted_f1))\n",
        "    print(\"classification_report:\\n\")\n",
        "    print(report)\n",
        "  \n",
        "  \n",
        "def correct_predictions(output_probabilities, targets):\n",
        "    \"\"\"\n",
        "    Compute the number of predictions that match some target classes in the\n",
        "    output of a model.\n",
        "    Args:\n",
        "        output_probabilities: A tensor of probabilities for different output\n",
        "            classes.\n",
        "        targets: The indices of the actual target classes.\n",
        "    Returns:\n",
        "        The number of correct predictions in 'output_probabilities'.\n",
        "    \"\"\"\n",
        "    _, out_classes = output_probabilities.max(dim=1)\n",
        "    correct = (out_classes == targets).sum()\n",
        "    return correct.item()\n",
        "\n",
        "\n",
        "def train(model, dataloader, optimizer, epoch_number, max_gradient_norm):\n",
        "    \"\"\"\n",
        "    Train a model for one epoch on some input data with a given optimizer and\n",
        "    criterion.\n",
        "    Args:\n",
        "        model: A torch module that must be trained on some input data.\n",
        "        dataloader: A DataLoader object to iterate over the training data.\n",
        "        optimizer: A torch optimizer to use for training on the input model.\n",
        "        epoch_number: The number of the epoch for which training is performed.\n",
        "        max_gradient_norm: Max. norm for gradient norm clipping.\n",
        "    Returns:\n",
        "        epoch_time: The total time necessary to train the epoch.\n",
        "        epoch_loss: The training loss computed for the epoch.\n",
        "        epoch_accuracy: The accuracy computed for the epoch.\n",
        "    \"\"\"\n",
        "    # Switch the model to train mode.\n",
        "    model.train()\n",
        "    device = model.device\n",
        "    epoch_start = time.time()\n",
        "    batch_time_avg = 0.0\n",
        "    running_loss = 0.0\n",
        "    correct_preds = 0\n",
        "    tqdm_batch_iterator = tqdm(dataloader)\n",
        "    for batch_index, (batch_seqs, batch_seq_masks, batch_seq_segments, batch_labels) in enumerate(tqdm_batch_iterator):\n",
        "        batch_start = time.time()\n",
        "        seqs, masks, segments, labels = batch_seqs.to(device), batch_seq_masks.to(device), batch_seq_segments.to(device), batch_labels.to(device)\n",
        "        optimizer.zero_grad()\n",
        "        loss, logits, probabilities = model(seqs, masks, segments, labels)\n",
        "        loss.backward()\n",
        "        nn.utils.clip_grad_norm_(model.parameters(), max_gradient_norm)\n",
        "        optimizer.step()\n",
        "        batch_time_avg += time.time() - batch_start\n",
        "        running_loss += loss.item()\n",
        "        correct_preds += correct_predictions(probabilities, labels)\n",
        "        description = \"Avg. batch proc. time: {:.4f}s, loss: {:.4f}\"\\\n",
        "                      .format(batch_time_avg/(batch_index+1), running_loss/(batch_index+1))\n",
        "        tqdm_batch_iterator.set_description(description)\n",
        "    epoch_time = time.time() - epoch_start\n",
        "    epoch_loss = running_loss / len(dataloader)\n",
        "    epoch_accuracy = correct_preds / len(dataloader.dataset)\n",
        "    return epoch_time, epoch_loss, epoch_accuracy\n",
        "\n",
        "\n",
        "def validate(model, dataloader):\n",
        "    \"\"\"\n",
        "    Compute the loss and accuracy of a model on some validation dataset.\n",
        "    Args:\n",
        "        model: A torch module for which the loss and accuracy must be\n",
        "            computed.\n",
        "        dataloader: A DataLoader object to iterate over the validation data.\n",
        "    Returns:\n",
        "        epoch_time: The total time to compute the loss and accuracy on the\n",
        "            entire validation set.\n",
        "        epoch_loss: The loss computed on the entire validation set.\n",
        "        epoch_accuracy: The accuracy computed on the entire validation set.\n",
        "        roc_auc_score(all_labels, all_prob): The auc computed on the entire validation set.\n",
        "        all_prob: The probability of classification as label 1 on the entire validation set.\n",
        "    \"\"\"\n",
        "    # Switch to evaluate mode.\n",
        "    model.eval()\n",
        "    device = model.device\n",
        "    epoch_start = time.time()\n",
        "    running_loss = 0.0\n",
        "    running_accuracy = 0.0\n",
        "    all_prob = []\n",
        "    all_labels = []\n",
        "    # Deactivate autograd for evaluation.\n",
        "    with torch.no_grad():\n",
        "        for (batch_seqs, batch_seq_masks, batch_seq_segments, batch_labels) in dataloader:\n",
        "            # Move input and output data to the GPU if one is used.\n",
        "            seqs = batch_seqs.to(device)\n",
        "            masks = batch_seq_masks.to(device)\n",
        "            segments = batch_seq_segments.to(device)\n",
        "            labels = batch_labels.to(device)\n",
        "            loss, logits, probabilities = model(seqs, masks, segments, labels)\n",
        "            running_loss += loss.item()\n",
        "            running_accuracy += correct_predictions(probabilities, labels)\n",
        "            all_prob.extend(probabilities.cpu().numpy())\n",
        "            all_labels.extend(batch_labels)\n",
        "    epoch_time = time.time() - epoch_start\n",
        "    epoch_loss = running_loss / len(dataloader)\n",
        "    epoch_accuracy = running_accuracy / (len(dataloader.dataset))\n",
        "    return epoch_time, epoch_loss, epoch_accuracy, roc_auc_score(all_labels, all_prob,multi_class='ovr'), all_prob\n",
        "    #return epoch_time, epoch_loss, epoch_accuracy, all_prob\n",
        "\n",
        "def test(model, dataloader):\n",
        "    \"\"\"\n",
        "    Test the accuracy of a model on some labelled test dataset.\n",
        "    Args:\n",
        "        model: The torch module on which testing must be performed.\n",
        "        dataloader: A DataLoader object to iterate over some dataset.\n",
        "    Returns:\n",
        "        batch_time: The average time to predict the classes of a batch.\n",
        "        total_time: The total time to process the whole dataset.\n",
        "        accuracy: The accuracy of the model on the input data.\n",
        "        all_prob: The probability of classification as label 1 on the entire validation set.\n",
        "    \"\"\"\n",
        "    # Switch the model to eval mode.\n",
        "    model.eval()\n",
        "    device = model.device\n",
        "    time_start = time.time()\n",
        "    batch_time = 0.0\n",
        "    accuracy = 0.0\n",
        "    all_prob = []\n",
        "    all_labels = []\n",
        "    # Deactivate autograd for evaluation.\n",
        "    with torch.no_grad():\n",
        "        for (batch_seqs, batch_seq_masks, batch_seq_segments, batch_labels) in dataloader:\n",
        "            batch_start = time.time()\n",
        "            # Move input and output data to the GPU if one is used.\n",
        "            seqs, masks, segments, labels = batch_seqs.to(device), batch_seq_masks.to(device), batch_seq_segments.to(device), batch_labels.to(device)\n",
        "            _, _, probabilities = model(seqs, masks, segments, labels)\n",
        "            accuracy += correct_predictions(probabilities, labels)\n",
        "            batch_time += time.time() - batch_start\n",
        "            all_prob.extend(probabilities.cpu().numpy())\n",
        "            all_labels.extend(batch_labels)\n",
        "    batch_time /= len(dataloader)\n",
        "    total_time = time.time() - time_start\n",
        "    accuracy /= (len(dataloader.dataset))\n",
        "\n",
        "    return batch_time, total_time, accuracy, all_prob"
      ]
    },
    {
      "cell_type": "code",
      "execution_count": 41,
      "metadata": {
        "colab": {
          "base_uri": "https://localhost:8080/"
        },
        "id": "1ik2yCT5RTi7",
        "outputId": "71423a94-bba3-4d95-b6eb-57c32fb75e5c"
      },
      "outputs": [
        {
          "output_type": "stream",
          "name": "stdout",
          "text": [
            "\t* Training will continue on existing model from epoch 3...\n",
            "\n",
            "* Validation loss before training: 1.5031, accuracy: 46.6479%, auc: 0.9284\n",
            "\n",
            " ==================== Training bert model on device: cuda ====================\n",
            "* Training epoch 3:\n"
          ]
        },
        {
          "output_type": "stream",
          "name": "stderr",
          "text": [
            "Avg. batch proc. time: 1.1399s, loss: 1.3568: 100%|██████████| 3799/3799 [1:12:41<00:00,  1.15s/it]\n"
          ]
        },
        {
          "output_type": "stream",
          "name": "stdout",
          "text": [
            "-> Training time: 4361.4499s, loss = 1.3568, accuracy: 51.0738%\n",
            "* Validation for epoch 3:\n",
            "-> Valid. time: 199.2621s, loss: 1.5186, accuracy: 45.3317%, auc: 0.9324\n",
            "\n",
            "-> Early stopping: patience limit reached, stopping...\n"
          ]
        }
      ],
      "source": [
        "best_score = 0.0\n",
        "epochs= 3\n",
        "start_epoch = 1\n",
        "patience = 1\n",
        "max_grad_norm = 10.0\n",
        "if_save_model = True\n",
        "checkpoint = os.path.join(target_dir, \"bert_base_uncased_ohsumed_epoch2.tar\") # None\n",
        "\n",
        "# Data for loss curves plot\n",
        "epochs_count = []\n",
        "train_losses = []\n",
        "train_accuracies = []\n",
        "valid_losses = []\n",
        "valid_accuracies = []\n",
        "valid_aucs = []\n",
        "\n",
        "if checkpoint:\n",
        "    checkpoint = torch.load(checkpoint)\n",
        "    start_epoch = checkpoint[\"epoch\"] + 1\n",
        "    best_score = checkpoint[\"best_score\"]\n",
        "    print(\"\\t* Training will continue on existing model from epoch {}...\".format(start_epoch))\n",
        "    model.load_state_dict(checkpoint[\"model\"])\n",
        "    optimizer.load_state_dict(checkpoint[\"optimizer\"])\n",
        "    epochs_count = checkpoint[\"epochs_count\"]\n",
        "    train_losses = checkpoint[\"train_losses\"]\n",
        "    train_accuracy = checkpoint[\"train_accuracy\"]\n",
        "    valid_losses = checkpoint[\"valid_losses\"]\n",
        "    valid_accuracy = checkpoint[\"valid_accuracy\"]\n",
        "    valid_auc = checkpoint[\"valid_auc\"]\n",
        "\n",
        " # Compute loss and accuracy before starting (or resuming) training.\n",
        "_, valid_loss, valid_accuracy, auc, _ = validate(model, dev_loader)\n",
        "print(\"\\n* Validation loss before training: {:.4f}, accuracy: {:.4f}%, auc: {:.4f}\".format(valid_loss, (valid_accuracy*100), auc))\n",
        "\n",
        "# -------------------- Training epochs -----------------------------------#\n",
        "\n",
        "print(\"\\n\", 20 * \"=\", \"Training bert model on device: {}\".format(DEVICE), 20 * \"=\")\n",
        "patience_counter = 0\n",
        "for epoch in range(start_epoch, epochs + 1):\n",
        "    epochs_count.append(epoch)\n",
        "\n",
        "    print(\"* Training epoch {}:\".format(epoch))\n",
        "    epoch_time, epoch_loss, epoch_accuracy = train(model, train_loader, optimizer, epoch, max_grad_norm)\n",
        "    train_losses.append(epoch_loss)\n",
        "    train_accuracies.append(epoch_accuracy)  \n",
        "    print(\"-> Training time: {:.4f}s, loss = {:.4f}, accuracy: {:.4f}%\".format(epoch_time, epoch_loss, (epoch_accuracy*100)))\n",
        "\n",
        "    print(\"* Validation for epoch {}:\".format(epoch))\n",
        "    epoch_time, epoch_loss, epoch_accuracy , epoch_auc, _, = validate(model, dev_loader)\n",
        "    valid_losses.append(epoch_loss)\n",
        "    valid_accuracies.append(epoch_accuracy)\n",
        "    valid_aucs.append(epoch_auc)\n",
        "    print(\"-> Valid. time: {:.4f}s, loss: {:.4f}, accuracy: {:.4f}%, auc: {:.4f}\\n\"\n",
        "          .format(epoch_time, epoch_loss, (epoch_accuracy*100), epoch_auc))\n",
        "\n",
        "    # Update the optimizer's learning rate with the scheduler.\n",
        "    scheduler.step(epoch_accuracy)\n",
        "    ## scheduler.step()\n",
        "\n",
        "    # Early stopping on validation accuracy.\n",
        "    if epoch_accuracy < best_score:\n",
        "        patience_counter += 1\n",
        "    else:\n",
        "        best_score = epoch_accuracy\n",
        "        patience_counter = 0\n",
        "        if (if_save_model):\n",
        "            torch.save({\"epoch\": epoch, \n",
        "                       \"model\": model.state_dict(),\n",
        "                       \"optimizer\": optimizer.state_dict(),\n",
        "                       \"best_score\": best_score,\n",
        "                       \"epochs_count\": epochs_count,\n",
        "                       \"train_losses\": train_losses,\n",
        "                       \"train_accuracy\": train_accuracies,\n",
        "                       \"valid_losses\": valid_losses,\n",
        "                       \"valid_accuracy\": valid_accuracies,\n",
        "                       \"valid_auc\": valid_aucs\n",
        "                       },\n",
        "                       os.path.join(target_dir, \"best.pth.tar\"))\n",
        "            print(\"save model succesfully!\\n\")\n",
        "\n",
        "        # run model on test set and save the prediction result to csv\n",
        "        print(\"* Test for epoch {}:\".format(epoch))\n",
        "        _, _, test_accuracy, _, all_prob = validate(model, test_loader)\n",
        "        print(\"Test accuracy: {:.4f}%\\n\".format(test_accuracy))\n",
        "        columns_names = [f'prob_{i}' for i in range(all_prob[0].shape[0])]\n",
        "        test_prediction = pd.DataFrame(all_prob,columns=columns_names)\n",
        "        test_prediction['prediction'] = test_prediction.apply(lambda x: columns_names.index(x.idxmax()) , axis=1)\n",
        "        test_prediction = test_prediction[[*columns_names, 'prediction']]\n",
        "        test_prediction.to_csv(os.path.join(target_dir,\"test_prediction.csv\"), index=False,sep=';')\n",
        "\n",
        "    if patience_counter >= patience:\n",
        "        print(\"-> Early stopping: patience limit reached, stopping...\")\n",
        "        break"
      ]
    },
    {
      "cell_type": "code",
      "execution_count": 42,
      "metadata": {
        "id": "7cNFgHCzRTi8"
      },
      "outputs": [],
      "source": [
        "test_result = pd.read_csv(os.path.join(target_dir, 'test_prediction.csv'),sep=';')"
      ]
    },
    {
      "cell_type": "code",
      "execution_count": 51,
      "metadata": {
        "id": "sgOCmwkWRTi8",
        "colab": {
          "base_uri": "https://localhost:8080/"
        },
        "outputId": "c5048452-7ffd-4e26-9176-aa58eab151bc"
      },
      "outputs": [
        {
          "output_type": "stream",
          "name": "stdout",
          "text": [
            "Accuracy: 45.4%\n",
            "Precision: 42.8%\n",
            "Recall: 42.6%\n",
            "F1: 40.8%\n",
            "classification_report:\n",
            "\n",
            "              precision    recall  f1-score   support\n",
            "\n",
            "     class_0      0.394     0.307     0.345       254\n",
            "     class_1      0.303     0.085     0.133       117\n",
            "     class_2      0.765     0.310     0.441        42\n",
            "     class_3      0.500     0.695     0.582       633\n",
            "     class_4      0.415     0.393     0.404       168\n",
            "     class_5      0.421     0.676     0.519       299\n",
            "     class_6      0.474     0.346     0.400        52\n",
            "     class_7      0.414     0.456     0.434       259\n",
            "     class_8      0.301     0.704     0.422        71\n",
            "     class_9      0.415     0.548     0.472       385\n",
            "    class_10      0.471     0.560     0.511       100\n",
            "    class_11      0.490     0.508     0.499       252\n",
            "    class_12      0.350     0.546     0.427       163\n",
            "    class_13      0.645     0.564     0.602       610\n",
            "    class_14      0.358     0.305     0.329       128\n",
            "    class_15      0.458     0.349     0.396       109\n",
            "    class_16      0.459     0.488     0.473       162\n",
            "    class_17      0.450     0.630     0.525       192\n",
            "    class_18      0.419     0.151     0.222        86\n",
            "    class_19      0.466     0.522     0.492       312\n",
            "    class_20      0.539     0.493     0.515       294\n",
            "    class_21      0.000     0.000     0.000        50\n",
            "    class_22      0.345     0.174     0.231       961\n",
            "\n",
            "    accuracy                          0.454      5699\n",
            "   macro avg      0.428     0.426     0.408      5699\n",
            "weighted avg      0.446     0.454     0.435      5699\n",
            "\n"
          ]
        }
      ],
      "source": [
        "Metric(test_df.Y, test_result.prediction) "
      ]
    },
    {
      "cell_type": "markdown",
      "metadata": {
        "id": "2Q7b9t9JRTi8"
      },
      "source": [
        "# PREDICTION"
      ]
    },
    {
      "cell_type": "code",
      "execution_count": 54,
      "metadata": {
        "id": "PtB46ShhRTi8"
      },
      "outputs": [],
      "source": [
        "def model_load_test(test_df, target_dir, test_prediction_dir, test_prediction_name, max_seq_len=50, batch_size=32):\n",
        "    \"\"\"\n",
        "    Parameters\n",
        "    ----------\n",
        "    test_df : pandas dataframe of test set.\n",
        "    target_dir : the path of pretrained model.\n",
        "    test_prediction_dir : the path that you want to save the prediction result to.\n",
        "    test_prediction_name : the file name of the prediction result.\n",
        "    max_seq_len: the max truncated length.\n",
        "    batch_size : the default is 32.\n",
        "    \n",
        "    \"\"\"\n",
        "    \n",
        "    bertmodel = BertModel(requires_grad = False)\n",
        "    tokenizer = bertmodel.tokenizer\n",
        "    device = torch.device(\"cuda\")\n",
        "    \n",
        "    print(20 * \"=\", \" Preparing for testing \", 20 * \"=\")\n",
        "    if platform == \"linux\" or platform == \"linux2\":\n",
        "        checkpoint = torch.load(os.path.join(target_dir, \"bert_base_uncased_ohsumed_epoch2.tar\"))\n",
        "    else:\n",
        "        checkpoint = torch.load(os.path.join(target_dir, \"bert_base_uncased_ohsumed_epoch2.tar\"), map_location=device)\n",
        "        \n",
        "    print(\"\\t* Loading test data...\")    \n",
        "    test_data = DataPrecessForSentence(tokenizer,test_df, max_seq_len = max_seq_len) \n",
        "    test_loader = DataLoader(test_data, shuffle=False, batch_size=batch_size)\n",
        "\n",
        "    # Retrieving model parameters from checkpoint.\n",
        "    print(\"\\t* Building model...\")\n",
        "    model = bertmodel.to(device)\n",
        "    model.load_state_dict(checkpoint[\"model\"])\n",
        "    print(20 * \"=\", \" Testing BERT model on device: {} \".format(device), 20 * \"=\")\n",
        "    \n",
        "    batch_time, total_time, accuracy, all_prob = test(model, test_loader)\n",
        "    print(\"\\n-> Average batch processing time: {:.4f}s, total test time: {:.4f}s, accuracy: {:.4f}%\\n\".format(batch_time, total_time, (accuracy*100)))\n",
        "    \n",
        "    columns_names = [f'prob_{i}' for i in range(all_prob[0].shape[0])]\n",
        "    test_prediction = pd.DataFrame(all_prob,columns=columns_names)\n",
        "    test_prediction['prediction'] = test_prediction.apply(lambda x: columns_names.index(x.idxmax()) , axis=1)\n",
        "    if not os.path.exists(test_prediction_dir):\n",
        "        os.makedirs(test_prediction_dir)\n",
        "    test_prediction.to_csv(os.path.join(test_prediction_dir, test_prediction_name), index=False)"
      ]
    },
    {
      "cell_type": "code",
      "execution_count": 55,
      "metadata": {
        "id": "KZo2x3tbRTi9",
        "outputId": "4e32303f-1276-448f-a2ab-4bb06d1e1bf3",
        "colab": {
          "base_uri": "https://localhost:8080/"
        }
      },
      "outputs": [
        {
          "output_type": "stream",
          "name": "stdout",
          "text": [
            "====================  Preparing for testing  ====================\n",
            "\t* Loading test data...\n",
            "\t* Building model...\n",
            "====================  Testing BERT model on device: cuda  ====================\n",
            "\n",
            "-> Average batch processing time: 0.3949s, total test time: 187.8394s, accuracy: 46.0607%\n",
            "\n"
          ]
        }
      ],
      "source": [
        "platform = 'Windows'\n",
        "model_load_test(test_df, target_dir, target_dir, \"test_prediction2.csv\", max_seq_len=MAX_LEN, batch_size=BATCH_SIZE)"
      ]
    },
    {
      "cell_type": "code",
      "execution_count": null,
      "metadata": {
        "id": "2nFZ_JoYRTi9"
      },
      "outputs": [],
      "source": []
    }
  ],
  "metadata": {
    "kernelspec": {
      "display_name": "Python 3 (ipykernel)",
      "language": "python",
      "name": "python3"
    },
    "language_info": {
      "codemirror_mode": {
        "name": "ipython",
        "version": 3
      },
      "file_extension": ".py",
      "mimetype": "text/x-python",
      "name": "python",
      "nbconvert_exporter": "python",
      "pygments_lexer": "ipython3",
      "version": "3.9.5"
    },
    "colab": {
      "provenance": [],
      "collapsed_sections": []
    },
    "accelerator": "GPU",
    "gpuClass": "standard",
    "widgets": {
      "application/vnd.jupyter.widget-state+json": {
        "d2333b9fabf04a5e9fd0fdf6350cd4e6": {
          "model_module": "@jupyter-widgets/controls",
          "model_name": "HBoxModel",
          "model_module_version": "1.5.0",
          "state": {
            "_dom_classes": [],
            "_model_module": "@jupyter-widgets/controls",
            "_model_module_version": "1.5.0",
            "_model_name": "HBoxModel",
            "_view_count": null,
            "_view_module": "@jupyter-widgets/controls",
            "_view_module_version": "1.5.0",
            "_view_name": "HBoxView",
            "box_style": "",
            "children": [
              "IPY_MODEL_f21e08ea85574db19c0dfca9832b2ff9",
              "IPY_MODEL_00fe68c7f92d4c38bbe7a5cb2999adc8",
              "IPY_MODEL_82471adc40bb455a9b2341f40d65c9f3"
            ],
            "layout": "IPY_MODEL_8a21ed11ff6341fc8f6342172a000043"
          }
        },
        "f21e08ea85574db19c0dfca9832b2ff9": {
          "model_module": "@jupyter-widgets/controls",
          "model_name": "HTMLModel",
          "model_module_version": "1.5.0",
          "state": {
            "_dom_classes": [],
            "_model_module": "@jupyter-widgets/controls",
            "_model_module_version": "1.5.0",
            "_model_name": "HTMLModel",
            "_view_count": null,
            "_view_module": "@jupyter-widgets/controls",
            "_view_module_version": "1.5.0",
            "_view_name": "HTMLView",
            "description": "",
            "description_tooltip": null,
            "layout": "IPY_MODEL_8f81247054d24c0a97c866c7ae51eb18",
            "placeholder": "​",
            "style": "IPY_MODEL_113295bbd141438e892b02e5dc933643",
            "value": "Downloading: 100%"
          }
        },
        "00fe68c7f92d4c38bbe7a5cb2999adc8": {
          "model_module": "@jupyter-widgets/controls",
          "model_name": "FloatProgressModel",
          "model_module_version": "1.5.0",
          "state": {
            "_dom_classes": [],
            "_model_module": "@jupyter-widgets/controls",
            "_model_module_version": "1.5.0",
            "_model_name": "FloatProgressModel",
            "_view_count": null,
            "_view_module": "@jupyter-widgets/controls",
            "_view_module_version": "1.5.0",
            "_view_name": "ProgressView",
            "bar_style": "success",
            "description": "",
            "description_tooltip": null,
            "layout": "IPY_MODEL_67c895ff19394968966d50ec94a8efb8",
            "max": 570,
            "min": 0,
            "orientation": "horizontal",
            "style": "IPY_MODEL_ce41f5f5fd784b6cbc67c16a50047396",
            "value": 570
          }
        },
        "82471adc40bb455a9b2341f40d65c9f3": {
          "model_module": "@jupyter-widgets/controls",
          "model_name": "HTMLModel",
          "model_module_version": "1.5.0",
          "state": {
            "_dom_classes": [],
            "_model_module": "@jupyter-widgets/controls",
            "_model_module_version": "1.5.0",
            "_model_name": "HTMLModel",
            "_view_count": null,
            "_view_module": "@jupyter-widgets/controls",
            "_view_module_version": "1.5.0",
            "_view_name": "HTMLView",
            "description": "",
            "description_tooltip": null,
            "layout": "IPY_MODEL_1c1c47b2ccaf464db22b37f792ec990f",
            "placeholder": "​",
            "style": "IPY_MODEL_8ce5fb7cac8c4fc685dfe2514b1f6f9c",
            "value": " 570/570 [00:00&lt;00:00, 18.8kB/s]"
          }
        },
        "8a21ed11ff6341fc8f6342172a000043": {
          "model_module": "@jupyter-widgets/base",
          "model_name": "LayoutModel",
          "model_module_version": "1.2.0",
          "state": {
            "_model_module": "@jupyter-widgets/base",
            "_model_module_version": "1.2.0",
            "_model_name": "LayoutModel",
            "_view_count": null,
            "_view_module": "@jupyter-widgets/base",
            "_view_module_version": "1.2.0",
            "_view_name": "LayoutView",
            "align_content": null,
            "align_items": null,
            "align_self": null,
            "border": null,
            "bottom": null,
            "display": null,
            "flex": null,
            "flex_flow": null,
            "grid_area": null,
            "grid_auto_columns": null,
            "grid_auto_flow": null,
            "grid_auto_rows": null,
            "grid_column": null,
            "grid_gap": null,
            "grid_row": null,
            "grid_template_areas": null,
            "grid_template_columns": null,
            "grid_template_rows": null,
            "height": null,
            "justify_content": null,
            "justify_items": null,
            "left": null,
            "margin": null,
            "max_height": null,
            "max_width": null,
            "min_height": null,
            "min_width": null,
            "object_fit": null,
            "object_position": null,
            "order": null,
            "overflow": null,
            "overflow_x": null,
            "overflow_y": null,
            "padding": null,
            "right": null,
            "top": null,
            "visibility": null,
            "width": null
          }
        },
        "8f81247054d24c0a97c866c7ae51eb18": {
          "model_module": "@jupyter-widgets/base",
          "model_name": "LayoutModel",
          "model_module_version": "1.2.0",
          "state": {
            "_model_module": "@jupyter-widgets/base",
            "_model_module_version": "1.2.0",
            "_model_name": "LayoutModel",
            "_view_count": null,
            "_view_module": "@jupyter-widgets/base",
            "_view_module_version": "1.2.0",
            "_view_name": "LayoutView",
            "align_content": null,
            "align_items": null,
            "align_self": null,
            "border": null,
            "bottom": null,
            "display": null,
            "flex": null,
            "flex_flow": null,
            "grid_area": null,
            "grid_auto_columns": null,
            "grid_auto_flow": null,
            "grid_auto_rows": null,
            "grid_column": null,
            "grid_gap": null,
            "grid_row": null,
            "grid_template_areas": null,
            "grid_template_columns": null,
            "grid_template_rows": null,
            "height": null,
            "justify_content": null,
            "justify_items": null,
            "left": null,
            "margin": null,
            "max_height": null,
            "max_width": null,
            "min_height": null,
            "min_width": null,
            "object_fit": null,
            "object_position": null,
            "order": null,
            "overflow": null,
            "overflow_x": null,
            "overflow_y": null,
            "padding": null,
            "right": null,
            "top": null,
            "visibility": null,
            "width": null
          }
        },
        "113295bbd141438e892b02e5dc933643": {
          "model_module": "@jupyter-widgets/controls",
          "model_name": "DescriptionStyleModel",
          "model_module_version": "1.5.0",
          "state": {
            "_model_module": "@jupyter-widgets/controls",
            "_model_module_version": "1.5.0",
            "_model_name": "DescriptionStyleModel",
            "_view_count": null,
            "_view_module": "@jupyter-widgets/base",
            "_view_module_version": "1.2.0",
            "_view_name": "StyleView",
            "description_width": ""
          }
        },
        "67c895ff19394968966d50ec94a8efb8": {
          "model_module": "@jupyter-widgets/base",
          "model_name": "LayoutModel",
          "model_module_version": "1.2.0",
          "state": {
            "_model_module": "@jupyter-widgets/base",
            "_model_module_version": "1.2.0",
            "_model_name": "LayoutModel",
            "_view_count": null,
            "_view_module": "@jupyter-widgets/base",
            "_view_module_version": "1.2.0",
            "_view_name": "LayoutView",
            "align_content": null,
            "align_items": null,
            "align_self": null,
            "border": null,
            "bottom": null,
            "display": null,
            "flex": null,
            "flex_flow": null,
            "grid_area": null,
            "grid_auto_columns": null,
            "grid_auto_flow": null,
            "grid_auto_rows": null,
            "grid_column": null,
            "grid_gap": null,
            "grid_row": null,
            "grid_template_areas": null,
            "grid_template_columns": null,
            "grid_template_rows": null,
            "height": null,
            "justify_content": null,
            "justify_items": null,
            "left": null,
            "margin": null,
            "max_height": null,
            "max_width": null,
            "min_height": null,
            "min_width": null,
            "object_fit": null,
            "object_position": null,
            "order": null,
            "overflow": null,
            "overflow_x": null,
            "overflow_y": null,
            "padding": null,
            "right": null,
            "top": null,
            "visibility": null,
            "width": null
          }
        },
        "ce41f5f5fd784b6cbc67c16a50047396": {
          "model_module": "@jupyter-widgets/controls",
          "model_name": "ProgressStyleModel",
          "model_module_version": "1.5.0",
          "state": {
            "_model_module": "@jupyter-widgets/controls",
            "_model_module_version": "1.5.0",
            "_model_name": "ProgressStyleModel",
            "_view_count": null,
            "_view_module": "@jupyter-widgets/base",
            "_view_module_version": "1.2.0",
            "_view_name": "StyleView",
            "bar_color": null,
            "description_width": ""
          }
        },
        "1c1c47b2ccaf464db22b37f792ec990f": {
          "model_module": "@jupyter-widgets/base",
          "model_name": "LayoutModel",
          "model_module_version": "1.2.0",
          "state": {
            "_model_module": "@jupyter-widgets/base",
            "_model_module_version": "1.2.0",
            "_model_name": "LayoutModel",
            "_view_count": null,
            "_view_module": "@jupyter-widgets/base",
            "_view_module_version": "1.2.0",
            "_view_name": "LayoutView",
            "align_content": null,
            "align_items": null,
            "align_self": null,
            "border": null,
            "bottom": null,
            "display": null,
            "flex": null,
            "flex_flow": null,
            "grid_area": null,
            "grid_auto_columns": null,
            "grid_auto_flow": null,
            "grid_auto_rows": null,
            "grid_column": null,
            "grid_gap": null,
            "grid_row": null,
            "grid_template_areas": null,
            "grid_template_columns": null,
            "grid_template_rows": null,
            "height": null,
            "justify_content": null,
            "justify_items": null,
            "left": null,
            "margin": null,
            "max_height": null,
            "max_width": null,
            "min_height": null,
            "min_width": null,
            "object_fit": null,
            "object_position": null,
            "order": null,
            "overflow": null,
            "overflow_x": null,
            "overflow_y": null,
            "padding": null,
            "right": null,
            "top": null,
            "visibility": null,
            "width": null
          }
        },
        "8ce5fb7cac8c4fc685dfe2514b1f6f9c": {
          "model_module": "@jupyter-widgets/controls",
          "model_name": "DescriptionStyleModel",
          "model_module_version": "1.5.0",
          "state": {
            "_model_module": "@jupyter-widgets/controls",
            "_model_module_version": "1.5.0",
            "_model_name": "DescriptionStyleModel",
            "_view_count": null,
            "_view_module": "@jupyter-widgets/base",
            "_view_module_version": "1.2.0",
            "_view_name": "StyleView",
            "description_width": ""
          }
        },
        "7fe326048e694d6583c0d2ad438ebe12": {
          "model_module": "@jupyter-widgets/controls",
          "model_name": "HBoxModel",
          "model_module_version": "1.5.0",
          "state": {
            "_dom_classes": [],
            "_model_module": "@jupyter-widgets/controls",
            "_model_module_version": "1.5.0",
            "_model_name": "HBoxModel",
            "_view_count": null,
            "_view_module": "@jupyter-widgets/controls",
            "_view_module_version": "1.5.0",
            "_view_name": "HBoxView",
            "box_style": "",
            "children": [
              "IPY_MODEL_b92db5fea91043f89443514e84ebcca2",
              "IPY_MODEL_1b54dadc6517440da223819f74538add",
              "IPY_MODEL_e7929a338e694337b9ae8cadf09a5e59"
            ],
            "layout": "IPY_MODEL_7010b329023b4bf09966174c5ca2e820"
          }
        },
        "b92db5fea91043f89443514e84ebcca2": {
          "model_module": "@jupyter-widgets/controls",
          "model_name": "HTMLModel",
          "model_module_version": "1.5.0",
          "state": {
            "_dom_classes": [],
            "_model_module": "@jupyter-widgets/controls",
            "_model_module_version": "1.5.0",
            "_model_name": "HTMLModel",
            "_view_count": null,
            "_view_module": "@jupyter-widgets/controls",
            "_view_module_version": "1.5.0",
            "_view_name": "HTMLView",
            "description": "",
            "description_tooltip": null,
            "layout": "IPY_MODEL_711666366f304368a8f4b12f87ba0807",
            "placeholder": "​",
            "style": "IPY_MODEL_f4240152e2ef4e43ac72fa6e8c410cb6",
            "value": "Downloading: 100%"
          }
        },
        "1b54dadc6517440da223819f74538add": {
          "model_module": "@jupyter-widgets/controls",
          "model_name": "FloatProgressModel",
          "model_module_version": "1.5.0",
          "state": {
            "_dom_classes": [],
            "_model_module": "@jupyter-widgets/controls",
            "_model_module_version": "1.5.0",
            "_model_name": "FloatProgressModel",
            "_view_count": null,
            "_view_module": "@jupyter-widgets/controls",
            "_view_module_version": "1.5.0",
            "_view_name": "ProgressView",
            "bar_style": "success",
            "description": "",
            "description_tooltip": null,
            "layout": "IPY_MODEL_d600ca9fa7d94c2c9b04628b03bd0176",
            "max": 440473133,
            "min": 0,
            "orientation": "horizontal",
            "style": "IPY_MODEL_481c520b04014b2fb42625eeef0ab304",
            "value": 440473133
          }
        },
        "e7929a338e694337b9ae8cadf09a5e59": {
          "model_module": "@jupyter-widgets/controls",
          "model_name": "HTMLModel",
          "model_module_version": "1.5.0",
          "state": {
            "_dom_classes": [],
            "_model_module": "@jupyter-widgets/controls",
            "_model_module_version": "1.5.0",
            "_model_name": "HTMLModel",
            "_view_count": null,
            "_view_module": "@jupyter-widgets/controls",
            "_view_module_version": "1.5.0",
            "_view_name": "HTMLView",
            "description": "",
            "description_tooltip": null,
            "layout": "IPY_MODEL_b920940b6f79471c8c7c66d421836ac3",
            "placeholder": "​",
            "style": "IPY_MODEL_1d3f140a45b8486f9b82b9cf42ddd738",
            "value": " 440M/440M [00:15&lt;00:00, 24.8MB/s]"
          }
        },
        "7010b329023b4bf09966174c5ca2e820": {
          "model_module": "@jupyter-widgets/base",
          "model_name": "LayoutModel",
          "model_module_version": "1.2.0",
          "state": {
            "_model_module": "@jupyter-widgets/base",
            "_model_module_version": "1.2.0",
            "_model_name": "LayoutModel",
            "_view_count": null,
            "_view_module": "@jupyter-widgets/base",
            "_view_module_version": "1.2.0",
            "_view_name": "LayoutView",
            "align_content": null,
            "align_items": null,
            "align_self": null,
            "border": null,
            "bottom": null,
            "display": null,
            "flex": null,
            "flex_flow": null,
            "grid_area": null,
            "grid_auto_columns": null,
            "grid_auto_flow": null,
            "grid_auto_rows": null,
            "grid_column": null,
            "grid_gap": null,
            "grid_row": null,
            "grid_template_areas": null,
            "grid_template_columns": null,
            "grid_template_rows": null,
            "height": null,
            "justify_content": null,
            "justify_items": null,
            "left": null,
            "margin": null,
            "max_height": null,
            "max_width": null,
            "min_height": null,
            "min_width": null,
            "object_fit": null,
            "object_position": null,
            "order": null,
            "overflow": null,
            "overflow_x": null,
            "overflow_y": null,
            "padding": null,
            "right": null,
            "top": null,
            "visibility": null,
            "width": null
          }
        },
        "711666366f304368a8f4b12f87ba0807": {
          "model_module": "@jupyter-widgets/base",
          "model_name": "LayoutModel",
          "model_module_version": "1.2.0",
          "state": {
            "_model_module": "@jupyter-widgets/base",
            "_model_module_version": "1.2.0",
            "_model_name": "LayoutModel",
            "_view_count": null,
            "_view_module": "@jupyter-widgets/base",
            "_view_module_version": "1.2.0",
            "_view_name": "LayoutView",
            "align_content": null,
            "align_items": null,
            "align_self": null,
            "border": null,
            "bottom": null,
            "display": null,
            "flex": null,
            "flex_flow": null,
            "grid_area": null,
            "grid_auto_columns": null,
            "grid_auto_flow": null,
            "grid_auto_rows": null,
            "grid_column": null,
            "grid_gap": null,
            "grid_row": null,
            "grid_template_areas": null,
            "grid_template_columns": null,
            "grid_template_rows": null,
            "height": null,
            "justify_content": null,
            "justify_items": null,
            "left": null,
            "margin": null,
            "max_height": null,
            "max_width": null,
            "min_height": null,
            "min_width": null,
            "object_fit": null,
            "object_position": null,
            "order": null,
            "overflow": null,
            "overflow_x": null,
            "overflow_y": null,
            "padding": null,
            "right": null,
            "top": null,
            "visibility": null,
            "width": null
          }
        },
        "f4240152e2ef4e43ac72fa6e8c410cb6": {
          "model_module": "@jupyter-widgets/controls",
          "model_name": "DescriptionStyleModel",
          "model_module_version": "1.5.0",
          "state": {
            "_model_module": "@jupyter-widgets/controls",
            "_model_module_version": "1.5.0",
            "_model_name": "DescriptionStyleModel",
            "_view_count": null,
            "_view_module": "@jupyter-widgets/base",
            "_view_module_version": "1.2.0",
            "_view_name": "StyleView",
            "description_width": ""
          }
        },
        "d600ca9fa7d94c2c9b04628b03bd0176": {
          "model_module": "@jupyter-widgets/base",
          "model_name": "LayoutModel",
          "model_module_version": "1.2.0",
          "state": {
            "_model_module": "@jupyter-widgets/base",
            "_model_module_version": "1.2.0",
            "_model_name": "LayoutModel",
            "_view_count": null,
            "_view_module": "@jupyter-widgets/base",
            "_view_module_version": "1.2.0",
            "_view_name": "LayoutView",
            "align_content": null,
            "align_items": null,
            "align_self": null,
            "border": null,
            "bottom": null,
            "display": null,
            "flex": null,
            "flex_flow": null,
            "grid_area": null,
            "grid_auto_columns": null,
            "grid_auto_flow": null,
            "grid_auto_rows": null,
            "grid_column": null,
            "grid_gap": null,
            "grid_row": null,
            "grid_template_areas": null,
            "grid_template_columns": null,
            "grid_template_rows": null,
            "height": null,
            "justify_content": null,
            "justify_items": null,
            "left": null,
            "margin": null,
            "max_height": null,
            "max_width": null,
            "min_height": null,
            "min_width": null,
            "object_fit": null,
            "object_position": null,
            "order": null,
            "overflow": null,
            "overflow_x": null,
            "overflow_y": null,
            "padding": null,
            "right": null,
            "top": null,
            "visibility": null,
            "width": null
          }
        },
        "481c520b04014b2fb42625eeef0ab304": {
          "model_module": "@jupyter-widgets/controls",
          "model_name": "ProgressStyleModel",
          "model_module_version": "1.5.0",
          "state": {
            "_model_module": "@jupyter-widgets/controls",
            "_model_module_version": "1.5.0",
            "_model_name": "ProgressStyleModel",
            "_view_count": null,
            "_view_module": "@jupyter-widgets/base",
            "_view_module_version": "1.2.0",
            "_view_name": "StyleView",
            "bar_color": null,
            "description_width": ""
          }
        },
        "b920940b6f79471c8c7c66d421836ac3": {
          "model_module": "@jupyter-widgets/base",
          "model_name": "LayoutModel",
          "model_module_version": "1.2.0",
          "state": {
            "_model_module": "@jupyter-widgets/base",
            "_model_module_version": "1.2.0",
            "_model_name": "LayoutModel",
            "_view_count": null,
            "_view_module": "@jupyter-widgets/base",
            "_view_module_version": "1.2.0",
            "_view_name": "LayoutView",
            "align_content": null,
            "align_items": null,
            "align_self": null,
            "border": null,
            "bottom": null,
            "display": null,
            "flex": null,
            "flex_flow": null,
            "grid_area": null,
            "grid_auto_columns": null,
            "grid_auto_flow": null,
            "grid_auto_rows": null,
            "grid_column": null,
            "grid_gap": null,
            "grid_row": null,
            "grid_template_areas": null,
            "grid_template_columns": null,
            "grid_template_rows": null,
            "height": null,
            "justify_content": null,
            "justify_items": null,
            "left": null,
            "margin": null,
            "max_height": null,
            "max_width": null,
            "min_height": null,
            "min_width": null,
            "object_fit": null,
            "object_position": null,
            "order": null,
            "overflow": null,
            "overflow_x": null,
            "overflow_y": null,
            "padding": null,
            "right": null,
            "top": null,
            "visibility": null,
            "width": null
          }
        },
        "1d3f140a45b8486f9b82b9cf42ddd738": {
          "model_module": "@jupyter-widgets/controls",
          "model_name": "DescriptionStyleModel",
          "model_module_version": "1.5.0",
          "state": {
            "_model_module": "@jupyter-widgets/controls",
            "_model_module_version": "1.5.0",
            "_model_name": "DescriptionStyleModel",
            "_view_count": null,
            "_view_module": "@jupyter-widgets/base",
            "_view_module_version": "1.2.0",
            "_view_name": "StyleView",
            "description_width": ""
          }
        },
        "06495ce5336b48ca99411ab35dc7010e": {
          "model_module": "@jupyter-widgets/controls",
          "model_name": "HBoxModel",
          "model_module_version": "1.5.0",
          "state": {
            "_dom_classes": [],
            "_model_module": "@jupyter-widgets/controls",
            "_model_module_version": "1.5.0",
            "_model_name": "HBoxModel",
            "_view_count": null,
            "_view_module": "@jupyter-widgets/controls",
            "_view_module_version": "1.5.0",
            "_view_name": "HBoxView",
            "box_style": "",
            "children": [
              "IPY_MODEL_ae92d72cfa2d401f8c123c95294d58f0",
              "IPY_MODEL_424481f8d0234e6d8174c1cc22c98356",
              "IPY_MODEL_e7c5117b828245419e2f72e8073411c7"
            ],
            "layout": "IPY_MODEL_2f95b18e5bea4fa1b85e49c35c2df6db"
          }
        },
        "ae92d72cfa2d401f8c123c95294d58f0": {
          "model_module": "@jupyter-widgets/controls",
          "model_name": "HTMLModel",
          "model_module_version": "1.5.0",
          "state": {
            "_dom_classes": [],
            "_model_module": "@jupyter-widgets/controls",
            "_model_module_version": "1.5.0",
            "_model_name": "HTMLModel",
            "_view_count": null,
            "_view_module": "@jupyter-widgets/controls",
            "_view_module_version": "1.5.0",
            "_view_name": "HTMLView",
            "description": "",
            "description_tooltip": null,
            "layout": "IPY_MODEL_b9a4780d14f04602b61f86a71903e561",
            "placeholder": "​",
            "style": "IPY_MODEL_cd15c407c54d4f5991dc639392d47018",
            "value": "Downloading: 100%"
          }
        },
        "424481f8d0234e6d8174c1cc22c98356": {
          "model_module": "@jupyter-widgets/controls",
          "model_name": "FloatProgressModel",
          "model_module_version": "1.5.0",
          "state": {
            "_dom_classes": [],
            "_model_module": "@jupyter-widgets/controls",
            "_model_module_version": "1.5.0",
            "_model_name": "FloatProgressModel",
            "_view_count": null,
            "_view_module": "@jupyter-widgets/controls",
            "_view_module_version": "1.5.0",
            "_view_name": "ProgressView",
            "bar_style": "success",
            "description": "",
            "description_tooltip": null,
            "layout": "IPY_MODEL_75bca5ffa1bb4f3ab57a6bbee8fc061d",
            "max": 28,
            "min": 0,
            "orientation": "horizontal",
            "style": "IPY_MODEL_d1de5c55ca414b7bb9632153d5a8067f",
            "value": 28
          }
        },
        "e7c5117b828245419e2f72e8073411c7": {
          "model_module": "@jupyter-widgets/controls",
          "model_name": "HTMLModel",
          "model_module_version": "1.5.0",
          "state": {
            "_dom_classes": [],
            "_model_module": "@jupyter-widgets/controls",
            "_model_module_version": "1.5.0",
            "_model_name": "HTMLModel",
            "_view_count": null,
            "_view_module": "@jupyter-widgets/controls",
            "_view_module_version": "1.5.0",
            "_view_name": "HTMLView",
            "description": "",
            "description_tooltip": null,
            "layout": "IPY_MODEL_aaa3189158114f03957da40f18ff987e",
            "placeholder": "​",
            "style": "IPY_MODEL_27e9d1ec0ee248a2bca83fea10a667ea",
            "value": " 28.0/28.0 [00:00&lt;00:00, 316B/s]"
          }
        },
        "2f95b18e5bea4fa1b85e49c35c2df6db": {
          "model_module": "@jupyter-widgets/base",
          "model_name": "LayoutModel",
          "model_module_version": "1.2.0",
          "state": {
            "_model_module": "@jupyter-widgets/base",
            "_model_module_version": "1.2.0",
            "_model_name": "LayoutModel",
            "_view_count": null,
            "_view_module": "@jupyter-widgets/base",
            "_view_module_version": "1.2.0",
            "_view_name": "LayoutView",
            "align_content": null,
            "align_items": null,
            "align_self": null,
            "border": null,
            "bottom": null,
            "display": null,
            "flex": null,
            "flex_flow": null,
            "grid_area": null,
            "grid_auto_columns": null,
            "grid_auto_flow": null,
            "grid_auto_rows": null,
            "grid_column": null,
            "grid_gap": null,
            "grid_row": null,
            "grid_template_areas": null,
            "grid_template_columns": null,
            "grid_template_rows": null,
            "height": null,
            "justify_content": null,
            "justify_items": null,
            "left": null,
            "margin": null,
            "max_height": null,
            "max_width": null,
            "min_height": null,
            "min_width": null,
            "object_fit": null,
            "object_position": null,
            "order": null,
            "overflow": null,
            "overflow_x": null,
            "overflow_y": null,
            "padding": null,
            "right": null,
            "top": null,
            "visibility": null,
            "width": null
          }
        },
        "b9a4780d14f04602b61f86a71903e561": {
          "model_module": "@jupyter-widgets/base",
          "model_name": "LayoutModel",
          "model_module_version": "1.2.0",
          "state": {
            "_model_module": "@jupyter-widgets/base",
            "_model_module_version": "1.2.0",
            "_model_name": "LayoutModel",
            "_view_count": null,
            "_view_module": "@jupyter-widgets/base",
            "_view_module_version": "1.2.0",
            "_view_name": "LayoutView",
            "align_content": null,
            "align_items": null,
            "align_self": null,
            "border": null,
            "bottom": null,
            "display": null,
            "flex": null,
            "flex_flow": null,
            "grid_area": null,
            "grid_auto_columns": null,
            "grid_auto_flow": null,
            "grid_auto_rows": null,
            "grid_column": null,
            "grid_gap": null,
            "grid_row": null,
            "grid_template_areas": null,
            "grid_template_columns": null,
            "grid_template_rows": null,
            "height": null,
            "justify_content": null,
            "justify_items": null,
            "left": null,
            "margin": null,
            "max_height": null,
            "max_width": null,
            "min_height": null,
            "min_width": null,
            "object_fit": null,
            "object_position": null,
            "order": null,
            "overflow": null,
            "overflow_x": null,
            "overflow_y": null,
            "padding": null,
            "right": null,
            "top": null,
            "visibility": null,
            "width": null
          }
        },
        "cd15c407c54d4f5991dc639392d47018": {
          "model_module": "@jupyter-widgets/controls",
          "model_name": "DescriptionStyleModel",
          "model_module_version": "1.5.0",
          "state": {
            "_model_module": "@jupyter-widgets/controls",
            "_model_module_version": "1.5.0",
            "_model_name": "DescriptionStyleModel",
            "_view_count": null,
            "_view_module": "@jupyter-widgets/base",
            "_view_module_version": "1.2.0",
            "_view_name": "StyleView",
            "description_width": ""
          }
        },
        "75bca5ffa1bb4f3ab57a6bbee8fc061d": {
          "model_module": "@jupyter-widgets/base",
          "model_name": "LayoutModel",
          "model_module_version": "1.2.0",
          "state": {
            "_model_module": "@jupyter-widgets/base",
            "_model_module_version": "1.2.0",
            "_model_name": "LayoutModel",
            "_view_count": null,
            "_view_module": "@jupyter-widgets/base",
            "_view_module_version": "1.2.0",
            "_view_name": "LayoutView",
            "align_content": null,
            "align_items": null,
            "align_self": null,
            "border": null,
            "bottom": null,
            "display": null,
            "flex": null,
            "flex_flow": null,
            "grid_area": null,
            "grid_auto_columns": null,
            "grid_auto_flow": null,
            "grid_auto_rows": null,
            "grid_column": null,
            "grid_gap": null,
            "grid_row": null,
            "grid_template_areas": null,
            "grid_template_columns": null,
            "grid_template_rows": null,
            "height": null,
            "justify_content": null,
            "justify_items": null,
            "left": null,
            "margin": null,
            "max_height": null,
            "max_width": null,
            "min_height": null,
            "min_width": null,
            "object_fit": null,
            "object_position": null,
            "order": null,
            "overflow": null,
            "overflow_x": null,
            "overflow_y": null,
            "padding": null,
            "right": null,
            "top": null,
            "visibility": null,
            "width": null
          }
        },
        "d1de5c55ca414b7bb9632153d5a8067f": {
          "model_module": "@jupyter-widgets/controls",
          "model_name": "ProgressStyleModel",
          "model_module_version": "1.5.0",
          "state": {
            "_model_module": "@jupyter-widgets/controls",
            "_model_module_version": "1.5.0",
            "_model_name": "ProgressStyleModel",
            "_view_count": null,
            "_view_module": "@jupyter-widgets/base",
            "_view_module_version": "1.2.0",
            "_view_name": "StyleView",
            "bar_color": null,
            "description_width": ""
          }
        },
        "aaa3189158114f03957da40f18ff987e": {
          "model_module": "@jupyter-widgets/base",
          "model_name": "LayoutModel",
          "model_module_version": "1.2.0",
          "state": {
            "_model_module": "@jupyter-widgets/base",
            "_model_module_version": "1.2.0",
            "_model_name": "LayoutModel",
            "_view_count": null,
            "_view_module": "@jupyter-widgets/base",
            "_view_module_version": "1.2.0",
            "_view_name": "LayoutView",
            "align_content": null,
            "align_items": null,
            "align_self": null,
            "border": null,
            "bottom": null,
            "display": null,
            "flex": null,
            "flex_flow": null,
            "grid_area": null,
            "grid_auto_columns": null,
            "grid_auto_flow": null,
            "grid_auto_rows": null,
            "grid_column": null,
            "grid_gap": null,
            "grid_row": null,
            "grid_template_areas": null,
            "grid_template_columns": null,
            "grid_template_rows": null,
            "height": null,
            "justify_content": null,
            "justify_items": null,
            "left": null,
            "margin": null,
            "max_height": null,
            "max_width": null,
            "min_height": null,
            "min_width": null,
            "object_fit": null,
            "object_position": null,
            "order": null,
            "overflow": null,
            "overflow_x": null,
            "overflow_y": null,
            "padding": null,
            "right": null,
            "top": null,
            "visibility": null,
            "width": null
          }
        },
        "27e9d1ec0ee248a2bca83fea10a667ea": {
          "model_module": "@jupyter-widgets/controls",
          "model_name": "DescriptionStyleModel",
          "model_module_version": "1.5.0",
          "state": {
            "_model_module": "@jupyter-widgets/controls",
            "_model_module_version": "1.5.0",
            "_model_name": "DescriptionStyleModel",
            "_view_count": null,
            "_view_module": "@jupyter-widgets/base",
            "_view_module_version": "1.2.0",
            "_view_name": "StyleView",
            "description_width": ""
          }
        },
        "ff167ac808dd479cb5693141324cfc9d": {
          "model_module": "@jupyter-widgets/controls",
          "model_name": "HBoxModel",
          "model_module_version": "1.5.0",
          "state": {
            "_dom_classes": [],
            "_model_module": "@jupyter-widgets/controls",
            "_model_module_version": "1.5.0",
            "_model_name": "HBoxModel",
            "_view_count": null,
            "_view_module": "@jupyter-widgets/controls",
            "_view_module_version": "1.5.0",
            "_view_name": "HBoxView",
            "box_style": "",
            "children": [
              "IPY_MODEL_bdeaaef7e44c4d29938bd1a5e6ff50e9",
              "IPY_MODEL_623287e6b9b24426ad6b39d610d26d0d",
              "IPY_MODEL_2803ee36ad4c49508c3539eb00d234d7"
            ],
            "layout": "IPY_MODEL_3580362dfff8455a8234d12b3839d858"
          }
        },
        "bdeaaef7e44c4d29938bd1a5e6ff50e9": {
          "model_module": "@jupyter-widgets/controls",
          "model_name": "HTMLModel",
          "model_module_version": "1.5.0",
          "state": {
            "_dom_classes": [],
            "_model_module": "@jupyter-widgets/controls",
            "_model_module_version": "1.5.0",
            "_model_name": "HTMLModel",
            "_view_count": null,
            "_view_module": "@jupyter-widgets/controls",
            "_view_module_version": "1.5.0",
            "_view_name": "HTMLView",
            "description": "",
            "description_tooltip": null,
            "layout": "IPY_MODEL_7eea03115a22400180fbc250f8a2288e",
            "placeholder": "​",
            "style": "IPY_MODEL_e19bf0175f7e4e3bb66c2b64d98e43ef",
            "value": "Downloading: 100%"
          }
        },
        "623287e6b9b24426ad6b39d610d26d0d": {
          "model_module": "@jupyter-widgets/controls",
          "model_name": "FloatProgressModel",
          "model_module_version": "1.5.0",
          "state": {
            "_dom_classes": [],
            "_model_module": "@jupyter-widgets/controls",
            "_model_module_version": "1.5.0",
            "_model_name": "FloatProgressModel",
            "_view_count": null,
            "_view_module": "@jupyter-widgets/controls",
            "_view_module_version": "1.5.0",
            "_view_name": "ProgressView",
            "bar_style": "success",
            "description": "",
            "description_tooltip": null,
            "layout": "IPY_MODEL_d54515401eb742ee88140c75063f5148",
            "max": 231508,
            "min": 0,
            "orientation": "horizontal",
            "style": "IPY_MODEL_ab8fcdb197c34a8eae1ed4b19ef1d6d1",
            "value": 231508
          }
        },
        "2803ee36ad4c49508c3539eb00d234d7": {
          "model_module": "@jupyter-widgets/controls",
          "model_name": "HTMLModel",
          "model_module_version": "1.5.0",
          "state": {
            "_dom_classes": [],
            "_model_module": "@jupyter-widgets/controls",
            "_model_module_version": "1.5.0",
            "_model_name": "HTMLModel",
            "_view_count": null,
            "_view_module": "@jupyter-widgets/controls",
            "_view_module_version": "1.5.0",
            "_view_name": "HTMLView",
            "description": "",
            "description_tooltip": null,
            "layout": "IPY_MODEL_89640f57f7974bfd93769cf716ac6738",
            "placeholder": "​",
            "style": "IPY_MODEL_f64d0571dc0047bcafa3e5c08d2dad11",
            "value": " 232k/232k [00:00&lt;00:00, 251kB/s]"
          }
        },
        "3580362dfff8455a8234d12b3839d858": {
          "model_module": "@jupyter-widgets/base",
          "model_name": "LayoutModel",
          "model_module_version": "1.2.0",
          "state": {
            "_model_module": "@jupyter-widgets/base",
            "_model_module_version": "1.2.0",
            "_model_name": "LayoutModel",
            "_view_count": null,
            "_view_module": "@jupyter-widgets/base",
            "_view_module_version": "1.2.0",
            "_view_name": "LayoutView",
            "align_content": null,
            "align_items": null,
            "align_self": null,
            "border": null,
            "bottom": null,
            "display": null,
            "flex": null,
            "flex_flow": null,
            "grid_area": null,
            "grid_auto_columns": null,
            "grid_auto_flow": null,
            "grid_auto_rows": null,
            "grid_column": null,
            "grid_gap": null,
            "grid_row": null,
            "grid_template_areas": null,
            "grid_template_columns": null,
            "grid_template_rows": null,
            "height": null,
            "justify_content": null,
            "justify_items": null,
            "left": null,
            "margin": null,
            "max_height": null,
            "max_width": null,
            "min_height": null,
            "min_width": null,
            "object_fit": null,
            "object_position": null,
            "order": null,
            "overflow": null,
            "overflow_x": null,
            "overflow_y": null,
            "padding": null,
            "right": null,
            "top": null,
            "visibility": null,
            "width": null
          }
        },
        "7eea03115a22400180fbc250f8a2288e": {
          "model_module": "@jupyter-widgets/base",
          "model_name": "LayoutModel",
          "model_module_version": "1.2.0",
          "state": {
            "_model_module": "@jupyter-widgets/base",
            "_model_module_version": "1.2.0",
            "_model_name": "LayoutModel",
            "_view_count": null,
            "_view_module": "@jupyter-widgets/base",
            "_view_module_version": "1.2.0",
            "_view_name": "LayoutView",
            "align_content": null,
            "align_items": null,
            "align_self": null,
            "border": null,
            "bottom": null,
            "display": null,
            "flex": null,
            "flex_flow": null,
            "grid_area": null,
            "grid_auto_columns": null,
            "grid_auto_flow": null,
            "grid_auto_rows": null,
            "grid_column": null,
            "grid_gap": null,
            "grid_row": null,
            "grid_template_areas": null,
            "grid_template_columns": null,
            "grid_template_rows": null,
            "height": null,
            "justify_content": null,
            "justify_items": null,
            "left": null,
            "margin": null,
            "max_height": null,
            "max_width": null,
            "min_height": null,
            "min_width": null,
            "object_fit": null,
            "object_position": null,
            "order": null,
            "overflow": null,
            "overflow_x": null,
            "overflow_y": null,
            "padding": null,
            "right": null,
            "top": null,
            "visibility": null,
            "width": null
          }
        },
        "e19bf0175f7e4e3bb66c2b64d98e43ef": {
          "model_module": "@jupyter-widgets/controls",
          "model_name": "DescriptionStyleModel",
          "model_module_version": "1.5.0",
          "state": {
            "_model_module": "@jupyter-widgets/controls",
            "_model_module_version": "1.5.0",
            "_model_name": "DescriptionStyleModel",
            "_view_count": null,
            "_view_module": "@jupyter-widgets/base",
            "_view_module_version": "1.2.0",
            "_view_name": "StyleView",
            "description_width": ""
          }
        },
        "d54515401eb742ee88140c75063f5148": {
          "model_module": "@jupyter-widgets/base",
          "model_name": "LayoutModel",
          "model_module_version": "1.2.0",
          "state": {
            "_model_module": "@jupyter-widgets/base",
            "_model_module_version": "1.2.0",
            "_model_name": "LayoutModel",
            "_view_count": null,
            "_view_module": "@jupyter-widgets/base",
            "_view_module_version": "1.2.0",
            "_view_name": "LayoutView",
            "align_content": null,
            "align_items": null,
            "align_self": null,
            "border": null,
            "bottom": null,
            "display": null,
            "flex": null,
            "flex_flow": null,
            "grid_area": null,
            "grid_auto_columns": null,
            "grid_auto_flow": null,
            "grid_auto_rows": null,
            "grid_column": null,
            "grid_gap": null,
            "grid_row": null,
            "grid_template_areas": null,
            "grid_template_columns": null,
            "grid_template_rows": null,
            "height": null,
            "justify_content": null,
            "justify_items": null,
            "left": null,
            "margin": null,
            "max_height": null,
            "max_width": null,
            "min_height": null,
            "min_width": null,
            "object_fit": null,
            "object_position": null,
            "order": null,
            "overflow": null,
            "overflow_x": null,
            "overflow_y": null,
            "padding": null,
            "right": null,
            "top": null,
            "visibility": null,
            "width": null
          }
        },
        "ab8fcdb197c34a8eae1ed4b19ef1d6d1": {
          "model_module": "@jupyter-widgets/controls",
          "model_name": "ProgressStyleModel",
          "model_module_version": "1.5.0",
          "state": {
            "_model_module": "@jupyter-widgets/controls",
            "_model_module_version": "1.5.0",
            "_model_name": "ProgressStyleModel",
            "_view_count": null,
            "_view_module": "@jupyter-widgets/base",
            "_view_module_version": "1.2.0",
            "_view_name": "StyleView",
            "bar_color": null,
            "description_width": ""
          }
        },
        "89640f57f7974bfd93769cf716ac6738": {
          "model_module": "@jupyter-widgets/base",
          "model_name": "LayoutModel",
          "model_module_version": "1.2.0",
          "state": {
            "_model_module": "@jupyter-widgets/base",
            "_model_module_version": "1.2.0",
            "_model_name": "LayoutModel",
            "_view_count": null,
            "_view_module": "@jupyter-widgets/base",
            "_view_module_version": "1.2.0",
            "_view_name": "LayoutView",
            "align_content": null,
            "align_items": null,
            "align_self": null,
            "border": null,
            "bottom": null,
            "display": null,
            "flex": null,
            "flex_flow": null,
            "grid_area": null,
            "grid_auto_columns": null,
            "grid_auto_flow": null,
            "grid_auto_rows": null,
            "grid_column": null,
            "grid_gap": null,
            "grid_row": null,
            "grid_template_areas": null,
            "grid_template_columns": null,
            "grid_template_rows": null,
            "height": null,
            "justify_content": null,
            "justify_items": null,
            "left": null,
            "margin": null,
            "max_height": null,
            "max_width": null,
            "min_height": null,
            "min_width": null,
            "object_fit": null,
            "object_position": null,
            "order": null,
            "overflow": null,
            "overflow_x": null,
            "overflow_y": null,
            "padding": null,
            "right": null,
            "top": null,
            "visibility": null,
            "width": null
          }
        },
        "f64d0571dc0047bcafa3e5c08d2dad11": {
          "model_module": "@jupyter-widgets/controls",
          "model_name": "DescriptionStyleModel",
          "model_module_version": "1.5.0",
          "state": {
            "_model_module": "@jupyter-widgets/controls",
            "_model_module_version": "1.5.0",
            "_model_name": "DescriptionStyleModel",
            "_view_count": null,
            "_view_module": "@jupyter-widgets/base",
            "_view_module_version": "1.2.0",
            "_view_name": "StyleView",
            "description_width": ""
          }
        },
        "2f6c2c9c2f2a4af484b574d91b07b5d6": {
          "model_module": "@jupyter-widgets/controls",
          "model_name": "HBoxModel",
          "model_module_version": "1.5.0",
          "state": {
            "_dom_classes": [],
            "_model_module": "@jupyter-widgets/controls",
            "_model_module_version": "1.5.0",
            "_model_name": "HBoxModel",
            "_view_count": null,
            "_view_module": "@jupyter-widgets/controls",
            "_view_module_version": "1.5.0",
            "_view_name": "HBoxView",
            "box_style": "",
            "children": [
              "IPY_MODEL_f61d4d53872b423b8df834418796d88f",
              "IPY_MODEL_bfa643057eda455dbc553f246769b8b9",
              "IPY_MODEL_8b04dd7771b54ee6806b77f28d9fb5d6"
            ],
            "layout": "IPY_MODEL_ceda583a1e0a4a3ba4c6598f0185875a"
          }
        },
        "f61d4d53872b423b8df834418796d88f": {
          "model_module": "@jupyter-widgets/controls",
          "model_name": "HTMLModel",
          "model_module_version": "1.5.0",
          "state": {
            "_dom_classes": [],
            "_model_module": "@jupyter-widgets/controls",
            "_model_module_version": "1.5.0",
            "_model_name": "HTMLModel",
            "_view_count": null,
            "_view_module": "@jupyter-widgets/controls",
            "_view_module_version": "1.5.0",
            "_view_name": "HTMLView",
            "description": "",
            "description_tooltip": null,
            "layout": "IPY_MODEL_ed55c7c003f94d1088ab885fa5d8bade",
            "placeholder": "​",
            "style": "IPY_MODEL_932765752f744805bf0fb21dd698ef4e",
            "value": "Downloading: 100%"
          }
        },
        "bfa643057eda455dbc553f246769b8b9": {
          "model_module": "@jupyter-widgets/controls",
          "model_name": "FloatProgressModel",
          "model_module_version": "1.5.0",
          "state": {
            "_dom_classes": [],
            "_model_module": "@jupyter-widgets/controls",
            "_model_module_version": "1.5.0",
            "_model_name": "FloatProgressModel",
            "_view_count": null,
            "_view_module": "@jupyter-widgets/controls",
            "_view_module_version": "1.5.0",
            "_view_name": "ProgressView",
            "bar_style": "success",
            "description": "",
            "description_tooltip": null,
            "layout": "IPY_MODEL_c6050c13c46f40fbbf48ea3d832235a3",
            "max": 466062,
            "min": 0,
            "orientation": "horizontal",
            "style": "IPY_MODEL_e898b189730b466a94ec25425d8e80fc",
            "value": 466062
          }
        },
        "8b04dd7771b54ee6806b77f28d9fb5d6": {
          "model_module": "@jupyter-widgets/controls",
          "model_name": "HTMLModel",
          "model_module_version": "1.5.0",
          "state": {
            "_dom_classes": [],
            "_model_module": "@jupyter-widgets/controls",
            "_model_module_version": "1.5.0",
            "_model_name": "HTMLModel",
            "_view_count": null,
            "_view_module": "@jupyter-widgets/controls",
            "_view_module_version": "1.5.0",
            "_view_name": "HTMLView",
            "description": "",
            "description_tooltip": null,
            "layout": "IPY_MODEL_323b97356e334b9ead6d5cfc8a15a0a3",
            "placeholder": "​",
            "style": "IPY_MODEL_8b600163f6664ad6ab08615d24992144",
            "value": " 466k/466k [00:01&lt;00:00, 319kB/s]"
          }
        },
        "ceda583a1e0a4a3ba4c6598f0185875a": {
          "model_module": "@jupyter-widgets/base",
          "model_name": "LayoutModel",
          "model_module_version": "1.2.0",
          "state": {
            "_model_module": "@jupyter-widgets/base",
            "_model_module_version": "1.2.0",
            "_model_name": "LayoutModel",
            "_view_count": null,
            "_view_module": "@jupyter-widgets/base",
            "_view_module_version": "1.2.0",
            "_view_name": "LayoutView",
            "align_content": null,
            "align_items": null,
            "align_self": null,
            "border": null,
            "bottom": null,
            "display": null,
            "flex": null,
            "flex_flow": null,
            "grid_area": null,
            "grid_auto_columns": null,
            "grid_auto_flow": null,
            "grid_auto_rows": null,
            "grid_column": null,
            "grid_gap": null,
            "grid_row": null,
            "grid_template_areas": null,
            "grid_template_columns": null,
            "grid_template_rows": null,
            "height": null,
            "justify_content": null,
            "justify_items": null,
            "left": null,
            "margin": null,
            "max_height": null,
            "max_width": null,
            "min_height": null,
            "min_width": null,
            "object_fit": null,
            "object_position": null,
            "order": null,
            "overflow": null,
            "overflow_x": null,
            "overflow_y": null,
            "padding": null,
            "right": null,
            "top": null,
            "visibility": null,
            "width": null
          }
        },
        "ed55c7c003f94d1088ab885fa5d8bade": {
          "model_module": "@jupyter-widgets/base",
          "model_name": "LayoutModel",
          "model_module_version": "1.2.0",
          "state": {
            "_model_module": "@jupyter-widgets/base",
            "_model_module_version": "1.2.0",
            "_model_name": "LayoutModel",
            "_view_count": null,
            "_view_module": "@jupyter-widgets/base",
            "_view_module_version": "1.2.0",
            "_view_name": "LayoutView",
            "align_content": null,
            "align_items": null,
            "align_self": null,
            "border": null,
            "bottom": null,
            "display": null,
            "flex": null,
            "flex_flow": null,
            "grid_area": null,
            "grid_auto_columns": null,
            "grid_auto_flow": null,
            "grid_auto_rows": null,
            "grid_column": null,
            "grid_gap": null,
            "grid_row": null,
            "grid_template_areas": null,
            "grid_template_columns": null,
            "grid_template_rows": null,
            "height": null,
            "justify_content": null,
            "justify_items": null,
            "left": null,
            "margin": null,
            "max_height": null,
            "max_width": null,
            "min_height": null,
            "min_width": null,
            "object_fit": null,
            "object_position": null,
            "order": null,
            "overflow": null,
            "overflow_x": null,
            "overflow_y": null,
            "padding": null,
            "right": null,
            "top": null,
            "visibility": null,
            "width": null
          }
        },
        "932765752f744805bf0fb21dd698ef4e": {
          "model_module": "@jupyter-widgets/controls",
          "model_name": "DescriptionStyleModel",
          "model_module_version": "1.5.0",
          "state": {
            "_model_module": "@jupyter-widgets/controls",
            "_model_module_version": "1.5.0",
            "_model_name": "DescriptionStyleModel",
            "_view_count": null,
            "_view_module": "@jupyter-widgets/base",
            "_view_module_version": "1.2.0",
            "_view_name": "StyleView",
            "description_width": ""
          }
        },
        "c6050c13c46f40fbbf48ea3d832235a3": {
          "model_module": "@jupyter-widgets/base",
          "model_name": "LayoutModel",
          "model_module_version": "1.2.0",
          "state": {
            "_model_module": "@jupyter-widgets/base",
            "_model_module_version": "1.2.0",
            "_model_name": "LayoutModel",
            "_view_count": null,
            "_view_module": "@jupyter-widgets/base",
            "_view_module_version": "1.2.0",
            "_view_name": "LayoutView",
            "align_content": null,
            "align_items": null,
            "align_self": null,
            "border": null,
            "bottom": null,
            "display": null,
            "flex": null,
            "flex_flow": null,
            "grid_area": null,
            "grid_auto_columns": null,
            "grid_auto_flow": null,
            "grid_auto_rows": null,
            "grid_column": null,
            "grid_gap": null,
            "grid_row": null,
            "grid_template_areas": null,
            "grid_template_columns": null,
            "grid_template_rows": null,
            "height": null,
            "justify_content": null,
            "justify_items": null,
            "left": null,
            "margin": null,
            "max_height": null,
            "max_width": null,
            "min_height": null,
            "min_width": null,
            "object_fit": null,
            "object_position": null,
            "order": null,
            "overflow": null,
            "overflow_x": null,
            "overflow_y": null,
            "padding": null,
            "right": null,
            "top": null,
            "visibility": null,
            "width": null
          }
        },
        "e898b189730b466a94ec25425d8e80fc": {
          "model_module": "@jupyter-widgets/controls",
          "model_name": "ProgressStyleModel",
          "model_module_version": "1.5.0",
          "state": {
            "_model_module": "@jupyter-widgets/controls",
            "_model_module_version": "1.5.0",
            "_model_name": "ProgressStyleModel",
            "_view_count": null,
            "_view_module": "@jupyter-widgets/base",
            "_view_module_version": "1.2.0",
            "_view_name": "StyleView",
            "bar_color": null,
            "description_width": ""
          }
        },
        "323b97356e334b9ead6d5cfc8a15a0a3": {
          "model_module": "@jupyter-widgets/base",
          "model_name": "LayoutModel",
          "model_module_version": "1.2.0",
          "state": {
            "_model_module": "@jupyter-widgets/base",
            "_model_module_version": "1.2.0",
            "_model_name": "LayoutModel",
            "_view_count": null,
            "_view_module": "@jupyter-widgets/base",
            "_view_module_version": "1.2.0",
            "_view_name": "LayoutView",
            "align_content": null,
            "align_items": null,
            "align_self": null,
            "border": null,
            "bottom": null,
            "display": null,
            "flex": null,
            "flex_flow": null,
            "grid_area": null,
            "grid_auto_columns": null,
            "grid_auto_flow": null,
            "grid_auto_rows": null,
            "grid_column": null,
            "grid_gap": null,
            "grid_row": null,
            "grid_template_areas": null,
            "grid_template_columns": null,
            "grid_template_rows": null,
            "height": null,
            "justify_content": null,
            "justify_items": null,
            "left": null,
            "margin": null,
            "max_height": null,
            "max_width": null,
            "min_height": null,
            "min_width": null,
            "object_fit": null,
            "object_position": null,
            "order": null,
            "overflow": null,
            "overflow_x": null,
            "overflow_y": null,
            "padding": null,
            "right": null,
            "top": null,
            "visibility": null,
            "width": null
          }
        },
        "8b600163f6664ad6ab08615d24992144": {
          "model_module": "@jupyter-widgets/controls",
          "model_name": "DescriptionStyleModel",
          "model_module_version": "1.5.0",
          "state": {
            "_model_module": "@jupyter-widgets/controls",
            "_model_module_version": "1.5.0",
            "_model_name": "DescriptionStyleModel",
            "_view_count": null,
            "_view_module": "@jupyter-widgets/base",
            "_view_module_version": "1.2.0",
            "_view_name": "StyleView",
            "description_width": ""
          }
        }
      }
    }
  },
  "nbformat": 4,
  "nbformat_minor": 0
}